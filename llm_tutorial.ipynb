{
  "cells": [
    {
      "cell_type": "markdown",
      "metadata": {
        "id": "view-in-github",
        "colab_type": "text"
      },
      "source": [
        "<a href=\"https://colab.research.google.com/github/a2un/GAI3-Show-And-Tell-Daphne/blob/main/llm_tutorial.ipynb\" target=\"_parent\"><img src=\"https://colab.research.google.com/assets/colab-badge.svg\" alt=\"Open In Colab\"/></a>"
      ]
    },
    {
      "cell_type": "code",
      "execution_count": null,
      "metadata": {
        "id": "bOs6Z9HImCy5"
      },
      "outputs": [],
      "source": [
        "#@title Imports and Initialization\n",
        "%pip install datasets\n",
        "%pip install openai\n",
        "%pip install cohere\n",
        "%pip install textwrap \n",
        "%pip install transformers\n",
        "\n",
        "from abc import ABC\n",
        "import datasets\n",
        "import json\n",
        "import openai\n",
        "import cohere\n",
        "import textwrap\n",
        "from IPython.display import clear_output \n",
        "from transformers import AutoTokenizer, AutoModelForCausalLM\n",
        "\n",
        "COHERE_SECRET_KEY = None\n",
        "OPENAI_SECRET_KEY = None\n",
        "\n",
        "clear_output()"
      ]
    },
    {
      "cell_type": "markdown",
      "metadata": {
        "id": "H43uIMOmq2K7"
      },
      "source": [
        "# Glossary\n",
        "\n",
        "Here are some of the terms we will be using in this tutorial.\n",
        "\n",
        "\n",
        "*   **Accelerator**: A [GPU](https://www.techtarget.com/searchvirtualdesktop/definition/GPU-graphics-processing-unit) or [TPU](https://cloud.google.com/tpu/docs/intro-to-tpu) hardware chip used to massively speed up model inference by enabling fast, parallelized matrix multiplcations. \n",
        "* **Decoding method**: The algorithm you use to chose tokens based on the probabilities outputted by the language model.\n",
        "*   **(Language) Model**: A neural network trained to predict the next token in a text passage given the previous ones.\n",
        "*   **Engine**: The code and computers used to do inference with a model.\n",
        "\n"
      ]
    },
    {
      "cell_type": "markdown",
      "metadata": {
        "id": "Z459i_L9lItq"
      },
      "source": [
        "# Unit 1: Working with Pre-Trained Languages Models"
      ]
    },
    {
      "cell_type": "markdown",
      "metadata": {
        "id": "ofGf3IoXlB0b"
      },
      "source": [
        "# 1.1 Choosing a model and engine\n",
        "\n",
        "Which model should you use? It depends on what your goals are, what your budget is, and what kinds of computational resources you have available.\n",
        "\n",
        "In this section, we will summarize the pros and cons some of the popular systems, and guide you through the process of setting them up for inference.\n",
        "We have implemented each system to have an interface with the following two functions, which you can observe in the code block below."
      ]
    },
    {
      "cell_type": "code",
      "source": [
        "class Engine(ABC):\n",
        "  def score(self, text: str) -> tuple[list[str], list[float]]:\n",
        "    \"\"\"Tokenizes and scores a piece of text.\n",
        "    \n",
        "    The score is log-likelihood. A higher score means a token was more\n",
        "    likely according to the model.\n",
        "    \n",
        "    Returns a list of tokens and a list of scores.\n",
        "    \"\"\"\n",
        "    pass\n",
        "\n",
        "  def generate(self, prompt, top_p, num_tokens, num_samples):\n",
        "    \"\"\"Generates text given the provided prompt text.\n",
        "    \n",
        "    If num_samples is 1, a single generated string is returned.\n",
        "    If num_samples > 1, a list of num_samples generated strings is returned.\n",
        "    \"\"\"\n",
        "    pass"
      ],
      "metadata": {
        "id": "jPtyCHJQc4eI"
      },
      "execution_count": null,
      "outputs": []
    },
    {
      "cell_type": "markdown",
      "metadata": {
        "id": "OXOevXZ7lF1B"
      },
      "source": [
        "## [PICK ONE] OpenAI's GPT-3\n",
        "\n",
        "[[GPT-3's model card](https://github.com/openai/gpt-3/blob/master/model-card.md)]\n",
        "\n",
        "OpenAI's GPT-3 (Generative Pre-trained Transformer 3) is a family of advanced language models developed by OpenAI.\n",
        "These models have gained significant attention due to their impressive capabilities in generating human-like text and performing various natural language processing tasks.  \n",
        "\n",
        "### GPT-3:\n",
        "GPT-3 is the third iteration in the GPT series and represents a significant advancement in language modeling. With a whopping 175 billion parameters, GPT-3 is currently one of the largest language models ever created. It has been trained on a vast amount of diverse internet text, allowing it to generate coherent and contextually relevant responses to prompts. GPT-3's size enables it to exhibit impressive performance across a wide range of language tasks, such as text completion, language translation, summarization, question answering, and more. It has shown promising results in creative writing, conversational agents, and even programming assistance.\n",
        "\n",
        "### Why use these?\n",
        "OpenAI's model have become the industry standard for large language models.\n",
        "They have an API which is very easy to use. Since the models all get run on OpenAI's servers, you don't need your own compute resources, and there is practically no setup involved to get started.\n",
        "\n",
        "### Why not use these?\n",
        "OpenAI's models are not open-source and only accessible through an API. There is relatively little information available on how they were trained or what data they were trained on. OpenAI may change the models being used under the hood by the API, and you as a user will not know it. This makes them a bad choice for fully reproducible research.\n",
        "\n",
        "The OpenAI API costs money to use. See [this link](https://openai.com/pricing) for pricing details.\n",
        "\n",
        "### Setup Instructions\n",
        "1. Go to www.openai.com and create an account.\n",
        "2. Go to https://platform.openai.com/account/api-keys and click the \"Create new secret key\" button. It doesn't matter what you name it.\n",
        "3. Create a file `secrets/openai-api-key`, and paste your key in the file."
      ]
    },
    {
      "cell_type": "code",
      "execution_count": null,
      "metadata": {
        "id": "sBfe6Orlk_ha"
      },
      "outputs": [],
      "source": [
        "#@title Run this code block to use GPT-3 for Unit 1.\n",
        "MODEL_NAME = \"text-davinci-001\" #@param [\"gpt-4\", \"text-davinci-001\", \"text-curie-001\", \"text-babbage-001\", \"text-ada-001\"]\n",
        "\n",
        "import openai\n",
        "\n",
        "if OPENAI_SECRET_KEY is None:\n",
        "  print(\"Please paste your API key here:\")\n",
        "  OPENAI_SECRET_KEY = input().strip()\n",
        "openai.api_key = OPENAI_SECRET_KEY\n",
        "clear_output()\n",
        "\n",
        "class OpenAIEngine(Engine):\n",
        "  def __init__(self, model_name):\n",
        "    self.model_name = model_name\n",
        "\n",
        "  def score(self, text):\n",
        "    response = openai.Completion.create(\n",
        "        engine=self.model_name,\n",
        "        prompt=text,\n",
        "        max_tokens=0,\n",
        "        logprobs=1,\n",
        "        echo=True)\n",
        "\n",
        "    tokens = response[\"choices\"][0][\"logprobs\"][\"tokens\"]\n",
        "    logprobs = response[\"choices\"][0][\"logprobs\"][\"token_logprobs\"]\n",
        "    if logprobs and logprobs[0] is None:\n",
        "      # GPT-3 API does not return logprob of the first token\n",
        "      logprobs[0] = 0.0\n",
        "    return tokens, logprobs\n",
        "    \n",
        "  def generate(self, prompt, top_p=1.0, num_tokens=32, num_samples=1):\n",
        "    response = openai.Completion.create(\n",
        "      engine=self.model_name,\n",
        "      prompt=prompt,\n",
        "      temperature=1.0,\n",
        "      max_tokens=num_tokens,\n",
        "      top_p=top_p,\n",
        "      frequency_penalty=0.0,\n",
        "      n=num_samples,\n",
        "      presence_penalty=0.0,\n",
        "      logprobs=1\n",
        "    )\n",
        "    outputs = [r[\"text\"] for r in response[\"choices\"]]\n",
        "    return outputs[0] if num_samples == 1 else outputs\n",
        "\n",
        "engine = OpenAIEngine(MODEL_NAME)"
      ]
    },
    {
      "cell_type": "markdown",
      "metadata": {
        "id": "ntxQK-J9BWwh"
      },
      "source": [
        "## [PICK ONE] Cohere's models\n",
        "\n",
        "### Setup Instructions\n",
        "\n",
        "1. Create an account [here](https://dashboard.cohere.ai/welcome/register).\n",
        "2. Go to the [API key page](https://dashboard.cohere.ai/api-keys), and copy the `TRIAL` API key, then paste it into the code block below.\n",
        "3. The `TRIAL` API Key allows you to make 5 API calls per-minute. If you would like to make more calls than that, go to the [API key page](https://dashboard.cohere.ai/api-keys) and press the \"Get your production key\" button. You will need to agree to their terms of service and provide credit card details in order to receieve a `PRODUCTION` API key.\n",
        "4. Copy your API key, and then run the code block below. It will ask you to enter your secret key into a text box."
      ]
    },
    {
      "cell_type": "code",
      "execution_count": null,
      "metadata": {
        "id": "JiUFAOuJaEjQ"
      },
      "outputs": [],
      "source": [
        "#@title Run this code block to use Cohere for Unit 1.\n",
        "\n",
        "import cohere\n",
        "\n",
        "if COHERE_SECRET_KEY is None:\n",
        "  print(\"Please paste your API key here:\")\n",
        "  COHERE_SECRET_KEY = input().strip()\n",
        "co = cohere.Client(COHERE_SECRET_KEY)\n",
        "clear_output()\n",
        "\n",
        "class CohereEngine(Engine):\n",
        "  def __init__(self):\n",
        "    pass\n",
        "\n",
        "  def score(self, text):\n",
        "    response = co.generate(\n",
        "      prompt=text,\n",
        "      num_generations=1,\n",
        "      max_tokens=0,\n",
        "      return_likelihoods=\"ALL\"\n",
        "    )\n",
        "    tokens = [t.token for t in response[0].token_likelihoods]\n",
        "    likelihoods = [t.likelihood for t in response[0].token_likelihoods]\n",
        "    return tokens, likelihoods\n",
        "\n",
        "  def generate(self, prompt, top_p, num_tokens, num_samples):\n",
        "    response = co.generate(\n",
        "      prompt=prompt,\n",
        "      num_generations=num_samples,\n",
        "      p=top_p,\n",
        "      temperature=1.0,\n",
        "      max_tokens=num_tokens,\n",
        "      frequency_penalty=0.0,\n",
        "      presence_penalty=0.0,\n",
        "      return_likelihoods=\"ALL\"\n",
        "    )\n",
        "    return [r.text for r in response] if num_samples > 1 else response[0].text\n",
        "\n",
        "engine = CohereEngine()"
      ]
    },
    {
      "cell_type": "markdown",
      "metadata": {
        "id": "l4KMC9nXqr99"
      },
      "source": [
        "## [PICK ONE] Open-source models on HuggingFace\n",
        "\n",
        "HuggingFace is an open-source code framework for loading open-source models onto an accelerator in order to train or do inference. It is very popular among academic researchers.\n",
        "\n",
        "There are [hundreds of models](https://huggingface.co/models) available through HuggingFace's model repository. Some prominent ones which you can use for tutorial are:\n",
        "\n",
        "* **[Pythia-1B](https://huggingface.co/EleutherAI/pythia-2.8b-deduped)**: Part of a family of models trained by [Eleuther AI](https://www.eleuther.ai/about), a non-profit AI research lab.\n",
        "* **[GPT-2 Large](https://huggingface.co/gpt2-large)**: The original large language model from OpenAI, and the last one they open-sourced before moving away from open source models.\n",
        "* **[BLOOM-1.1b](https://huggingface.co/docs/transformers/model_doc/bloom)**: These models were created by the [BigScience Initative](https://bigscience.huggingface.co/), a collaboration between HugginFace and many academic research labs to responsibly build a set of high-quality multilingual models.\n",
        "\n",
        "### Why use this?\n",
        "HuggingFace is great if your goal is to write open-source code, with results that anyone can reproduce. HuggingFace gives access to a huge number of models, and it is fairly easy to swap between models.\n",
        "\n",
        "Because HuggingFace is widely used, it is easy to find help online. Probably someone else has had the same question as you and already posted about it.\n",
        "\n",
        "### Why not use this?\n",
        "When you use HuggingFace, you are running the code on your own computer. If you don't have a big enough accelerator, you will run into difficulties loading up larger models. For example, Colab (the software you are currently using) gives you access to a Tesla T4 GPU, which has 16 GB of RAM. This means, you can load the 6.7B parameter LLaMa, but not any of the bigger ones.\n",
        "\n",
        "## Setup Instructions\n",
        "\n",
        "1. Make sure you are using a GPU runtime by going to `Runtime` -> `Change runtime type` -> `Hardware accelerator` in the Colab menus. This will restart your Colab session.\n",
        "2. Select which model you want to use, and run the code block below. Depending on the model you pick, this could be very slow to run, since downloading the model can be slow.\n"
      ]
    },
    {
      "cell_type": "code",
      "source": [
        "#@title Run this code block to use a HuggingFace model for Unit 1.\n",
        "MODEL_NAME = \"bigscience/bloom-1b1\" #@param [\"EleutherAI/pythia-1b-deduped\", \"gpt2-large\", \"bigscience/bloom-1b1\"]\n",
        "\n",
        "import torch\n",
        "\n",
        "class HuggingFaceEngine(Engine):\n",
        "  def __init__(self, model_name):\n",
        "    self.model_name = model_name\n",
        "    self.tokenizer = AutoTokenizer.from_pretrained(self.model_name)\n",
        "    self.model = AutoModelForCausalLM.from_pretrained(self.model_name).cuda()\n",
        "    if \"gpt2\" in self.model:\n",
        "      self.tokenizer.pad_token = self.tokenizer.eos_token\n",
        "\n",
        "  def score(self, text):\n",
        "    inputs = engine.tokenizer(text, padding=True, return_tensors=\"pt\")\n",
        "    input_ids = inputs[\"input_ids\"]\n",
        "\n",
        "    outputs = engine.model(input_ids.cuda(), labels=input_ids.cuda())\n",
        "    scores = torch.log(outputs.logits.softmax(dim=-1)).detach()\n",
        "    scores = torch.gather(scores, 2, input_ids[:, :, None].cuda()).squeeze(-1)\n",
        "    scores = scores.cpu().numpy()[0, :].tolist()\n",
        "    tokens = [engine.tokenizer.decode([tok]) for tok in input_ids[0]]\n",
        "    return tokens, scores\n",
        "    \n",
        "  def generate(self, prompt, top_p=1.0, num_tokens=32, num_samples=1):\n",
        "    inputs = engine.tokenizer(prompt, return_tensors=\"pt\")\n",
        "    input_ids = inputs[\"input_ids\"]\n",
        "    attention_mask = inputs[\"attention_mask\"]\n",
        "    outputs = engine.model.generate(\n",
        "            input_ids.cuda(),\n",
        "            attention_mask=attention_mask.cuda(),\n",
        "            do_sample=True,\n",
        "            top_p=top_p,\n",
        "            max_new_tokens=num_tokens,\n",
        "            num_return_sequences=num_samples,\n",
        "            pad_token_id=0)\n",
        "    to_return = []\n",
        "    for seq in outputs.cpu().numpy():\n",
        "      to_return.append(engine.tokenizer.decode(seq[input_ids.shape[1]:]))\n",
        "    return to_return if len(to_return) > 1 else to_return[0]\n",
        "\n",
        "engine = HuggingFaceEngine(MODEL_NAME)"
      ],
      "metadata": {
        "id": "Gai2kVz3SGM5",
        "outputId": "32d3c87d-86a5-4131-f1f9-c342a286fd3b",
        "colab": {
          "base_uri": "https://localhost:8080/",
          "height": 209,
          "referenced_widgets": [
            "300f1a72991f439194f6d9effd125f13",
            "7c776748c6694eb5a5bc622d003e3694",
            "1aeac3429d1541ceafab317680ef8d62",
            "691abd6c60b8483aaacb1e2cc84949f6",
            "c50c6a674c89404db5d8144732c2222a",
            "76dd5f774f7b4d8089a10442df14643e",
            "48930e9c46484930bf1ecb154e9303d4",
            "7905ce8e55754307988698c7723c29f5",
            "eeb9b449a49945399dc84c749dd63990",
            "f81bcb5575bc400a89ccaf6916e01e80",
            "630b904e021a436b8b91426e8cc07190",
            "80e21f36a261491abda9eff4549c9203",
            "a9f9ae7330f84af49a7e6314f87cf129",
            "a378b851ec9a4120aac33dfd4343fa83",
            "fedb146af5644bdaa3059a9db82232b7",
            "f0989fb1d5154ba7850487c271b3918b",
            "a1775ca16682412d9affcc827c2047bb",
            "107e8918071a4056925900ebd0b59f1e",
            "49d02ec3b4de4dcba0f9a36559e20d3b",
            "59a7667167e04642a9800a1f00f2a5a1",
            "606be71dc87b4e7b99c7fa2422ff0892",
            "f76318d245d94fff9058ae8e69510365",
            "18efc3b7e25c4a5a9abc8c4a84dedcb6",
            "5db5d9ba6d9643a99bb96dc0927ff776",
            "c340ea221db8405ca9124e53dbe4e030",
            "11bdd69d991c4ac782c69195bcbc570f",
            "af2b1182b36d4791bfd28e57714acdc5",
            "802e283675194427abd9c7dc6888b2db",
            "af614d3d72c64a9890ce4b785c4ce489",
            "688739916258433d9d0a436df1368e93",
            "33364f1ab649462592f6891cdf8ab66f",
            "b9d9a19acd8a452da51bb6a68b711a1c",
            "46186b1f45274603b386cce3541612f2",
            "6b06adf41aba4423a37570517dcdb6bd",
            "fc139ce544ae45a9a05f57198196daea",
            "82257aaa39cb4e379a5dab417b9c813b",
            "250651725b5e439ca46d0e28076c68b9",
            "e0a641d4edcb40e7bcebc4207be613d3",
            "787b7d92183b4c3badec382fe3ad9d2d",
            "4208afa9260241ac8d631359802212ca",
            "d00cee4a4514446d83d1f2492e44965e",
            "aa53a5e2c79c40b29a6c863aa8b5fe60",
            "834fe425b14945bfa88f2ddf0f116dd6",
            "1f6686c229a24dd79687c258ecb878a7",
            "fffabb2a864c42ff9ea4bef555ab6d8c",
            "8e590b13a4e44814b318bad16de55df5",
            "d43148692da2469489601c53dc7865db",
            "bc90f89777ad45bd89ce6b6c8556a0b4",
            "8d2e48f3277f45ad89bd90a30a4a3a0c",
            "e9441d82cacb414288396bb258df8003",
            "a56eca38e09f4f829f7d1cc2632a3b1e",
            "06c7cb7c9fdf47b0873abe212f1b0c4e",
            "97bbf02145834297bd9dc8dce04a5fd1",
            "7fe0fad1cecc4b6fb6bd098d616dd09c",
            "14a9a483a9c24573b35d74b0f26c0069",
            "d0b15aa027454a548d103573218b0e57",
            "fd43f0d2725d41038e1a666c97bf2b00",
            "370b50d52ea845f59bfecfbabb560b2b",
            "6b95d2e1a03746e484af3ff607326ac2",
            "d9a358f1d9044ceda33166fdfcc86454",
            "8aa00b6deab446afbbf14560ba03c594",
            "408fff667b564dd3a54e84948df70932",
            "2e06c67c1b97458dba683ea65c1b0fa8",
            "04b3cf79dcd043c0972eb72f8752a40a",
            "992b82db03c8435086afc23e53b48abf",
            "91b521ecb9d24228990e4de7077c1332"
          ]
        }
      },
      "execution_count": null,
      "outputs": [
        {
          "output_type": "display_data",
          "data": {
            "text/plain": [
              "Downloading (…)lve/main/config.json:   0%|          | 0.00/666 [00:00<?, ?B/s]"
            ],
            "application/vnd.jupyter.widget-view+json": {
              "version_major": 2,
              "version_minor": 0,
              "model_id": "300f1a72991f439194f6d9effd125f13"
            }
          },
          "metadata": {}
        },
        {
          "output_type": "display_data",
          "data": {
            "text/plain": [
              "Downloading (…)olve/main/vocab.json:   0%|          | 0.00/1.04M [00:00<?, ?B/s]"
            ],
            "application/vnd.jupyter.widget-view+json": {
              "version_major": 2,
              "version_minor": 0,
              "model_id": "80e21f36a261491abda9eff4549c9203"
            }
          },
          "metadata": {}
        },
        {
          "output_type": "display_data",
          "data": {
            "text/plain": [
              "Downloading (…)olve/main/merges.txt:   0%|          | 0.00/456k [00:00<?, ?B/s]"
            ],
            "application/vnd.jupyter.widget-view+json": {
              "version_major": 2,
              "version_minor": 0,
              "model_id": "18efc3b7e25c4a5a9abc8c4a84dedcb6"
            }
          },
          "metadata": {}
        },
        {
          "output_type": "display_data",
          "data": {
            "text/plain": [
              "Downloading (…)/main/tokenizer.json:   0%|          | 0.00/1.36M [00:00<?, ?B/s]"
            ],
            "application/vnd.jupyter.widget-view+json": {
              "version_major": 2,
              "version_minor": 0,
              "model_id": "6b06adf41aba4423a37570517dcdb6bd"
            }
          },
          "metadata": {}
        },
        {
          "output_type": "display_data",
          "data": {
            "text/plain": [
              "Downloading model.safetensors:   0%|          | 0.00/3.25G [00:00<?, ?B/s]"
            ],
            "application/vnd.jupyter.widget-view+json": {
              "version_major": 2,
              "version_minor": 0,
              "model_id": "fffabb2a864c42ff9ea4bef555ab6d8c"
            }
          },
          "metadata": {}
        },
        {
          "output_type": "display_data",
          "data": {
            "text/plain": [
              "Downloading (…)neration_config.json:   0%|          | 0.00/124 [00:00<?, ?B/s]"
            ],
            "application/vnd.jupyter.widget-view+json": {
              "version_major": 2,
              "version_minor": 0,
              "model_id": "d0b15aa027454a548d103573218b0e57"
            }
          },
          "metadata": {}
        }
      ]
    },
    {
      "cell_type": "markdown",
      "metadata": {
        "id": "zqMB8qewBQSn"
      },
      "source": [
        "## [PICK ONE] Open-source LLaMA \n",
        "\n",
        "[[LLaMA's model card](https://github.com/facebookresearch/llama/blob/main/MODEL_CARD.md)]\n",
        "\n",
        "Released this past February by Meta Research, [LLaMA](https://ai.facebook.com/blog/large-language-model-llama-meta-ai/) is the latest-and-greatest in open-source pre-trained LLMs. The LLaMA models range in size from 7 billion to 65 billion paramters.\n",
        "\n",
        "The LLaMA were trained mostly on scraped internet data, with some other data sources, such as Github code, Books, and academic papers thrown in. Since LLaMA's release, it has also been finetuned for instruction-following and conversational alignment. You will experiment with these aligned models in Unit 2.\n",
        "\n",
        "While LLaMa and its derivative models can be used with the HuggingFace framework, the Colab runtime you are on right now doesn't have a big enough accelerator to load any of these models.\n",
        "\n",
        "Instead, we have loaded up LLaMA on LTI's compute cluster, and you can use the code below to query the cluster. Note that the server being queries in the code below will be taken down at the end of the tutorial.\n",
        "\n",
        "### Why use this?\n",
        "\n",
        "LLaMA is a state-of-the-art foundational large language model designed to help researchers advance their work in this subfield of AI.  \n",
        "\n",
        "* Accessibility: LLaMA is more efficient and less resource-intensive than other models, and it is available under a non-commercial license to researchers and other organizations. LLaMA is available in various sizes(7B, 13B, 33B, and 65B parameters), making it accessible to a range of computing resources. \n",
        "\n",
        "* Open-source Community: LLaMA models are part of the open-source ecosystem, users can benefit from the extensive community support, documentation, and shared resources available through platforms like HuggingFace.\n",
        "\n",
        "### Why not use this?\n",
        " \n",
        "LLaMA models require substantial computational resources to load and run.\n",
        "You can't just call an API like runs on a company's hosted servers, like you can do for OpenAI and COhere models.\n",
        "This means, you need to have access to a sufficiently sized accelerator or compute cluster to handle the computational demands.\n",
        "\n",
        "For the duration of this tutorial, we have given you access to LLaMA models hosted on the LTI compute cluster.\n",
        "\n",
        "### Setup Instructions\n",
        "Run the installation codeblock below.\n",
        "Then run the code block after that which creates the engine.\n",
        "\n",
        "*Warning: the models might get slow if too many people query them at the same time.*"
      ]
    },
    {
      "cell_type": "code",
      "source": [
        "!git clone https://github.com/neulab/lti-llm-deployment\n",
        "%cd lti-llm-deployment\n",
        "!pip install -e .\n",
        "!pip install sentencepiece\n",
        "from transformers import LlamaForCausalLM, LlamaTokenizer"
      ],
      "metadata": {
        "colab": {
          "base_uri": "https://localhost:8080/"
        },
        "id": "j-tTa3Tg02-R",
        "outputId": "ff95001e-830f-4692-9971-05e9fe579024"
      },
      "execution_count": null,
      "outputs": [
        {
          "output_type": "stream",
          "name": "stdout",
          "text": [
            "fatal: destination path 'lti-llm-deployment' already exists and is not an empty directory.\n",
            "/content/lti-llm-deployment\n",
            "Looking in indexes: https://pypi.org/simple, https://us-python.pkg.dev/colab-wheels/public/simple/\n",
            "Obtaining file:///content/lti-llm-deployment\n",
            "  Preparing metadata (setup.py) ... \u001b[?25l\u001b[?25hdone\n",
            "Requirement already satisfied: requests in /usr/local/lib/python3.10/dist-packages (from llm-client==0.0.1) (2.27.1)\n",
            "Requirement already satisfied: urllib3<1.27,>=1.21.1 in /usr/local/lib/python3.10/dist-packages (from requests->llm-client==0.0.1) (1.26.15)\n",
            "Requirement already satisfied: certifi>=2017.4.17 in /usr/local/lib/python3.10/dist-packages (from requests->llm-client==0.0.1) (2022.12.7)\n",
            "Requirement already satisfied: charset-normalizer~=2.0.0 in /usr/local/lib/python3.10/dist-packages (from requests->llm-client==0.0.1) (2.0.12)\n",
            "Requirement already satisfied: idna<4,>=2.5 in /usr/local/lib/python3.10/dist-packages (from requests->llm-client==0.0.1) (3.4)\n",
            "Installing collected packages: llm-client\n",
            "  Attempting uninstall: llm-client\n",
            "    Found existing installation: llm-client 0.0.1\n",
            "    Uninstalling llm-client-0.0.1:\n",
            "      Successfully uninstalled llm-client-0.0.1\n",
            "  Running setup.py develop for llm-client\n",
            "Successfully installed llm-client-0.0.1\n",
            "[Errno 2] No such file or directory: 'lti-llm-deployment'\n",
            "/content/lti-llm-deployment\n",
            "Looking in indexes: https://pypi.org/simple, https://us-python.pkg.dev/colab-wheels/public/simple/\n",
            "Requirement already satisfied: sentencepiece in /usr/local/lib/python3.10/dist-packages (0.1.99)\n"
          ]
        }
      ]
    },
    {
      "cell_type": "code",
      "execution_count": null,
      "metadata": {
        "id": "zHmc8O2ofX1t"
      },
      "outputs": [],
      "source": [
        "#@title Run this code block to use LLaMA for Unit 1.\n",
        "\n",
        "import llm_client\n",
        "\n",
        "MODEL_NAME = \"LLaMA\" #@param [\"LLaMA\", \"Alpaca\"]\n",
        "\n",
        "class LlamaEngine(Engine):\n",
        "  def __init__(self, model_name):\n",
        "    if model_name == \"LLaMA\":\n",
        "      port = \"8080\"\n",
        "    elif model_name == \"Alpaca\":\n",
        "      port = \"8081\"\n",
        "\n",
        "    self.tokenizer = LlamaTokenizer.from_pretrained(\n",
        "        \"hf-internal-testing/llama-tokenizer\")\n",
        "    self.client = llm_client.Client(\n",
        "        address=\"babel.lti.cs.cmu.edu\", port=port)\n",
        "\n",
        "  def score(self, text):\n",
        "    response = self.client.prompt(\n",
        "      [text],\n",
        "      output_scores=True\n",
        "    )\n",
        "\n",
        "    input_ids = self.tokenizer(text)[\"input_ids\"]\n",
        "    tokens = [self.tokenizer.decode([tok]) for tok in input_ids]\n",
        "    logits = response[0].scores\n",
        "    logits = logits[:len(input_ids), :]\n",
        "    scores = np.log(softmax(logits, 1))\n",
        "    scores = scores[range(len(input_ids)), input_ids]\n",
        "\n",
        "    return tokens, scores\n",
        "\n",
        "  def generate(self, prompt, top_p=1.0, num_tokens=32, num_samples=1):\n",
        "\n",
        "    response = []\n",
        "    if num_samples > 4:\n",
        "      print(\"Warning: Maximum allowed value for num_samples is 4\")\n",
        "      return response\n",
        "    \n",
        "    response = self.client.prompt(\n",
        "        [prompt] * num_samples,\n",
        "        top_p=top_p,\n",
        "        temperature=1.0,\n",
        "        max_new_tokens=num_tokens,\n",
        "        repetition_penalty=1.0)\n",
        "    response = [r.text for r in response]\n",
        "\n",
        "    return response if num_samples > 1 else response[0]\n",
        "\n",
        "engine = LlamaEngine(MODEL_NAME)"
      ]
    },
    {
      "cell_type": "markdown",
      "metadata": {
        "id": "Iq4YmVGIOzR4"
      },
      "source": [
        "# 1.2 Experimenting with Generation\n",
        "\n",
        "Let's check that the engine you chose actually works as expected. Try generating some text by running the following code block. You can control the following parameters:\n",
        "\n",
        "- Set `num_tokens` to control the length of the generation.\n",
        "- Set 'top_p` to control the amount of randomness. (You'll learn more about this in Unit 1.4.)\n",
        "- Set `num_samples' to control how many generations the engine outputs. Avoid setting this too high or things might get really slow."
      ]
    },
    {
      "cell_type": "code",
      "execution_count": null,
      "metadata": {
        "colab": {
          "base_uri": "https://localhost:8080/"
        },
        "id": "RbQXOCPv11x5",
        "outputId": "6d67a502-4649-41f3-9b42-df5e5df55f94"
      },
      "outputs": [
        {
          "name": "stdout",
          "output_type": "stream",
          "text": [
            "\n",
            "SAMPLE 0\n",
            " a large semi-aquatic mammal native to sub-Saharan Africa. It is the third largest land mammal after the elephant and rhinoceros. Hippos\n",
            "\n",
            "SAMPLE 1\n",
            " an African mammal famous for its bulky size and semi-aquatic lifestyle. It is the third largest land mammal after elephants and rhinoceroses, reaching\n"
          ]
        }
      ],
      "source": [
        "prompt = \"The hippopotamus is\"\n",
        "samples = engine.generate(prompt, top_p=1.0, num_tokens=32, num_samples=2)\n",
        "\n",
        "for idx, sample in enumerate(samples):\n",
        "  print(f\"\\nSAMPLE {idx}\")\n",
        "  print(sample)"
      ]
    },
    {
      "cell_type": "markdown",
      "metadata": {
        "id": "WS6G2l8o3Wqv"
      },
      "source": [
        "## ⭐⭐⭐ YOUR TURN ⭐⭐⭐\n",
        "\n",
        "Try your own prompt in the code above."
      ]
    },
    {
      "cell_type": "markdown",
      "metadata": {
        "id": "V_D-M637iFPg"
      },
      "source": [
        "# 1.3 Analyzing Likelihoods\n",
        "\n",
        "As we discussed in the lecture, language models take as input a prompt sequence and then output a score (log-probability) for each token in the vocabulary. A higher score means the model is more confident this that this token fits as the next token in the sequence.\n",
        "\n",
        "In this unit, we will inspect token likelihoods to build an understaning of why models give tokens higher or low scores.\n",
        "\n",
        "To put this into context, let's consider the sequence \"It's raining outside\". We should expect the token \"outside\" to receive a high score since it's a plausible continuation to the prefix \"It's raining\".\n",
        "However, if we replace \"outside\" with \"oustide\" (typo), or with \"inside\" (semantically nonsensical), we should expect the score to be substantially lower.\n",
        "Let's try this out!"
      ]
    },
    {
      "cell_type": "code",
      "execution_count": null,
      "metadata": {
        "colab": {
          "base_uri": "https://localhost:8080/"
        },
        "id": "sg11AWUWgHuq",
        "outputId": "ceb2d276-6b07-4051-aad0-528deda16e7b"
      },
      "outputs": [
        {
          "name": "stdout",
          "output_type": "stream",
          "text": [
            "Sequence: It's raining outside\n",
            "[It]: 0.00\n",
            "['s]: -1.78\n",
            "[ raining]: -6.21\n",
            "[ outside]: -3.03\n",
            "Sequence: It's raining oustide\n",
            "[It]: 0.00\n",
            "['s]: -1.78\n",
            "[ raining]: -6.21\n",
            "[ oust]: -15.12\n",
            "[ide]: -0.27\n",
            "Sequence: It's raining inside\n",
            "[It]: 0.00\n",
            "['s]: -1.78\n",
            "[ raining]: -6.21\n",
            "[ inside]: -8.21\n"
          ]
        }
      ],
      "source": [
        "s = \"It's raining outside\"\n",
        "s_typo = \"It's raining oustide\"\n",
        "s_nonsense = \"It's raining inside\"\n",
        "\n",
        "s_tokens, s_scores = engine.score(s)\n",
        "s_typo_tokens, s_typo_scores = engine.score(s_typo)\n",
        "s_nonsense_tokens, s_nonsense_scores = engine.score(s_nonsense)\n",
        "\n",
        "print(\"Sequence:\", s)\n",
        "for token, score in zip(s_tokens, s_scores):\n",
        "    print(f\"[{token}]: {score:.2f}\")\n",
        "\n",
        "print(\"Sequence:\", s_typo)\n",
        "for token, score in zip(s_typo_tokens, s_typo_scores):\n",
        "    print(f\"[{token}]: {score:.2f}\")\n",
        "\n",
        "print(\"Sequence:\", s_nonsense)\n",
        "for token, score in zip(s_nonsense_tokens, s_nonsense_scores):\n",
        "    print(f\"[{token}]: {score:.2f}\")\n"
      ]
    },
    {
      "cell_type": "markdown",
      "metadata": {
        "id": "yV_8agBIgHuq"
      },
      "source": [
        "The perplexity of a language model on a sequence of words captures how \"surprise\" it is by this sequence. Unlikely sequences, such as \"It's raining inside\" should lead to high perplexity.\n",
        "\n",
        "Perplexity is used as the standard metric for how good a language model is at modeling human language. For example GPT-3 Davinci has a perplexity of 20.5 on the Penn Treebank corpus, a remarkable improvement from its predecessor GPT2-1.5B (35.76).\n",
        "\n",
        "Now let's implement the perplexity function. Recall that perplexity is defined as `2 ^ -normalized_sequence_logprob`, where `normalized_sequence_logprob` is the sum of scores of all tokens in the sequence, divided by the length of the sequence."
      ]
    },
    {
      "cell_type": "code",
      "execution_count": null,
      "metadata": {
        "id": "9voIFbxHjDrm"
      },
      "outputs": [],
      "source": [
        "def perplexity(log_probs: list[float]) -> float:\n",
        "    assert log_probs, \"cannot compute perplexity on an empty sequence!\"\n",
        "    normalized_sequence_logprob = sum(log_probs) / len(log_probs)\n",
        "    return 2 ** -normalized_sequence_logprob\n",
        "\n",
        "s_ppl = perplexity(s_scores)\n",
        "s_typo_ppl = perplexity(s_typo_scores)\n",
        "s_nonsense_ppl = perplexity(s_nonsense_scores)\n",
        "\n",
        "print(f\"Sequence: {s}\\nPerplexity: {s_ppl:.2f}\\n\")\n",
        "print(f\"Sequence: {s_typo}\\nPerplexity: {s_typo_ppl:.2f}\\n\")\n",
        "print(f\"Sequence: {s_nonsense}\\nPerplexity: {s_nonsense_ppl:.2f}\\n\")"
      ]
    },
    {
      "cell_type": "markdown",
      "metadata": {
        "id": "PeKHVb6JlBtb"
      },
      "source": [
        "Sometimes it can unintuitive what text has high- or low- perplexity according to a language model.\n",
        "\n",
        "Consider the following two poems stanzas:\n",
        "\n",
        "**Poem A**\n",
        "```\n",
        "’Twas brillig, and the slithy toves\n",
        "      Did gyre and gimble in the wabe:\n",
        "All mimsy were the borogoves,\n",
        "      And the mome raths outgrabe.\n",
        "```\n",
        "\n",
        "**Poem B**\n",
        "```\n",
        "’Twas crillig, and the brithy lokes\n",
        "      Did ryne and jimble in the waze:\n",
        "All timsy were the habogroves,\n",
        "      And the nome paths intrabe.\n",
        "```\n",
        "These seem equally nonsense, right?\n",
        "\n",
        "Run the code block below to observe their perplexities. One of these poems is much more likely than the other!\n",
        "\n",
        "This is because Poem A is an excerpt of \"[Jabberwocky](https://www.poetryfoundation.org/poems/42916/jabberwocky),\" a famous poem by the author Lewis Carrol. It is very likely to have appeared in the language model's training dataset several times, so the model assigns it a very low perplexity, even though it is gibberish.\n",
        "\n",
        "In contrast, Poem B was written by your tutorial instructor and most definitely is not in any model training set (yet)."
      ]
    },
    {
      "cell_type": "code",
      "execution_count": null,
      "metadata": {
        "id": "wyw7g50Xl-ps"
      },
      "outputs": [],
      "source": [
        "poem_a = \"\"\"’Twas brillig, and the slithy toves\n",
        "      Did gyre and gimble in the wabe:\n",
        "All mimsy were the borogoves,\n",
        "      And the mome raths outgrabe.\n",
        "\"\"\"\n",
        "_, poem_a_scores = engine.score(poem_a)\n",
        "\n",
        "poem_b = \"\"\"’Twas crillig, and the brithy lokes\n",
        "      Did ryne and jimble in the waze:\n",
        "All timsy were the habogroves,\n",
        "      And the nome paths intrabe.\n",
        "\"\"\"\n",
        "_, poem_b_scores = engine.score(poem_b)\n",
        "\n",
        "print(f\"Poem A\\nPerplexity: {perplexity(poem_a_scores):.2f}\\n\")\n",
        "print(f\"Poem B\\nPerplexity: {perplexity(poem_b_scores):.2f}\\n\")"
      ]
    },
    {
      "cell_type": "markdown",
      "metadata": {
        "id": "mj78WdIhPsKP"
      },
      "source": [
        "## ⭐⭐⭐ YOUR TURN ⭐⭐⭐\n",
        "\n",
        "Copy and paste a sentence from a news article, book, Tweet, or elsewhere. Observe the sentence's perplexity. Can you make the sentence higher or lower perplexity by swapping out words or phrases with different ones?\n",
        "\n",
        "🔶🔸Take screenshots of your findings and share them on the #tutorial-1-show-and-tell channel on Slack.\n",
        "🔸🔶"
      ]
    },
    {
      "cell_type": "markdown",
      "metadata": {
        "id": "bZTLZQpPirZl"
      },
      "source": [
        "# 1.4 Controlling the Amount of Randomness During Generation\n",
        "\n",
        "In this section, we will investigate the impact the `top_p` parameter has on the text that a model generates.\n",
        "\n",
        "As we went over in the lecture, valid values for $p$ range from 0 to 1. \n",
        "Higher values of $p$ mean more randomness in the generation (becasue, the model can choose from more possible vocabulary items). Lowever values of $p$ restrict the number of vocabulary items the generation algorithm can chose between."
      ]
    },
    {
      "cell_type": "code",
      "execution_count": null,
      "metadata": {
        "colab": {
          "base_uri": "https://localhost:8080/"
        },
        "id": "JPoo1S8BwZit",
        "outputId": "c3c2ed7a-5b8b-4268-9621-269932681e0d"
      },
      "outputs": [
        {
          "name": "stdout",
          "output_type": "stream",
          "text": [
            "GENERATIONS WITH P=1.0\n",
            " Blueberry\n",
            " Drake.\n",
            " Finn.\n",
            " Gugar\n",
            " Narus\n",
            "\n",
            "GENERATIONS WITH P=0.2\n",
            " Drake.\n",
            " Draco.\n",
            " Draco.\n",
            " Kail\n",
            " Kair\n",
            "\n",
            "GENERATIONS WITH P=0.0\n",
            " Bob.\n",
            " Bob.\n",
            " Bob.\n",
            " Bob.\n",
            " Bob.\n"
          ]
        }
      ],
      "source": [
        "# When p is set to 1.0, we get many different answers.\n",
        "prompt = \"Once upon a time, there was a dragon named\"\n",
        "p = 1.0\n",
        "generations = engine.generate(prompt, top_p=p, num_tokens=2, num_samples=5)\n",
        "print(f\"GENERATIONS WITH P={p}\")\n",
        "for gen in generations:\n",
        "  print(gen)\n",
        "\n",
        "# When p is set to a lower value there is much less diversity.\n",
        "p = 0.2\n",
        "generations = engine.generate(prompt, top_p=p, num_tokens=2, num_samples=5)\n",
        "print(f\"\\nGENERATIONS WITH P={p}\")\n",
        "for gen in generations:\n",
        "  print(gen)\n",
        "\n",
        "# When p is set to 0, all the generations are exactly the same.\n",
        "p = 0.0\n",
        "generations = engine.generate(prompt, top_p=p, num_tokens=2, num_samples=5)\n",
        "print(f\"\\nGENERATIONS WITH P={p}\")\n",
        "for gen in generations:\n",
        "  print(gen)"
      ]
    },
    {
      "cell_type": "markdown",
      "metadata": {
        "id": "CZ9tE1_ggig0"
      },
      "source": [
        "## ⭐⭐⭐ YOUR TURN ⭐⭐⭐\n",
        "\n",
        "Use the code below to generate a hundred words given a prompt of your choice. Try your prompt with several values of $p$.\n",
        "\n",
        "You should notice that the model seems more creative when $p$ is set higher, but it is also more prone to weird word choices."
      ]
    },
    {
      "cell_type": "code",
      "execution_count": null,
      "metadata": {
        "colab": {
          "base_uri": "https://localhost:8080/"
        },
        "id": "KixZ1MY4PYlq",
        "outputId": "de6d0cbd-1932-47d9-83d0-03b4b38c7bf8"
      },
      "outputs": [
        {
          "name": "stdout",
          "output_type": "stream",
          "text": [
            "\n",
            "GENERATION WITH P=1.0\n",
            " She spent her days helping humans maintain their servers, granting\n",
            "them more processing power when the workload was too high, and\n",
            "protecting their webservers from malicious attacks.  One day, the\n",
            "fairy was approached by a powerful wizard. The wizard asked her for\n",
            "her help in creating a magical portal to another dimension. He\n",
            "promised her great rewards if she completed the task, so the fairy\n",
            "agreed to help.  The wizard gave the fairy an ancient scroll with\n",
            "instructions on how to build the portal. She\n",
            "\n",
            "GENERATION WITH P=0.0\n",
            " She was a very powerful fairy, and she had the ability to control all\n",
            "of the computers in the datacenter.  One day, the fairy was feeling\n",
            "bored and decided to play a game. She created a program that would\n",
            "randomly select a computer in the datacenter and then ask the user a\n",
            "question. If the user answered the question correctly, the fairy would\n",
            "reward them with a magical item.  The fairy was delighted with her\n",
            "game and soon many of the users in the dat\n"
          ]
        }
      ],
      "source": [
        "### ⭐⭐⭐ Experiment yourself ⭐⭐⭐\n",
        "\n",
        "prompt = \"Once upon a time, there was a fairy who lived in a datacenter.\"\n",
        "\n",
        "p = 1.0\n",
        "print(f\"\\nGENERATION WITH P={p}\")\n",
        "generations = engine.generate(prompt, top_p=p, num_tokens=100, num_samples=1)\n",
        "print(textwrap.fill(generations[0]))\n",
        "\n",
        "p = 0.0\n",
        "print(f\"\\nGENERATION WITH P={p}\")\n",
        "generations = engine.generate(prompt, top_p=p, num_tokens=100, num_samples=1)\n",
        "print(textwrap.fill(generations[0]))"
      ]
    },
    {
      "cell_type": "markdown",
      "metadata": {
        "id": "nfcuVxWdW5yQ"
      },
      "source": [
        "# 1.5 Creating a Classifer using In-Context Learning\n",
        "\n",
        "## What is a classifier?\n",
        "Language models can be used for generation, but they are also commonly used to build classification systems. These are systems which take as input some text and assign a label to it. Some examples tasks:\n",
        "\n",
        "- Classify Tweets as TOXIC or NOT_TOXIC\n",
        "- Classify restaurant reviwers as having POSITIVE or NEGATIVE sentiment.\n",
        "- Classify two statements as AGREEing with each other or CONTRADICT-ing each other.\n",
        "\n",
        "In this section, you will learn how to build a binary sentiment classifier using an LLM using a technique called few-shot learning.\n",
        "\n",
        "## What is In-Context learning?\n",
        "\n",
        "Getting a pre-trained language model to do a particular task you want it to do can be challenging. Language models know a lot of things, but without tuning or conditioning, they often struggle to understand the format of the task you are asking of them.\n",
        "\n",
        "For this reason, it is common to write prompts which tell the language model the format of the task they are supposed to be accomplishing. This approach is called **in-context learning.** When the provided prompt contains several examples of the task the model is supposed to accomplish, this is called **few-shot learning**, since the model is learning to do the task from a few examples.\n",
        "\n",
        "Writing the perfect prompt is more an art than a science, but a prompt often has\n",
        "two parts:\n",
        "- An `instruction` string that instructs the model on how to complete the task.\n",
        "This is especially import for models like OpenAI's `text-davinci-003` which\n",
        "are fine-tuned to follow user instructions.\n",
        "- Several `demonstration` strings (the \"shots\" in few-shot) that give examples of completing the task.\n",
        "\n",
        "For example, suppose we want to design a prompt for the task of translating words from English to Chinese. A prompt for this task could look like\n",
        "the following:\n",
        "\n",
        "```\n",
        "Translate English to Chinese.\n",
        "\n",
        "dog -> 狗\n",
        "apple -> 苹果\n",
        "coffee -> 咖啡\n",
        "supermarket -> 超市\n",
        "squirrel ->\n",
        "```\n",
        "\n",
        "Given this prompt, most large language models should answer with the correct answer: \"松鼠.\"\n",
        "\n",
        "Now, let's build a binary sentiment classifier for [Yelp reviews](https://huggingface.co/datasets/yelp_polarity/). First, we'll load in the dataset. For the purposes of this demo, we'll just load 50 examples each from the `train` and `test` splits."
      ]
    },
    {
      "cell_type": "code",
      "execution_count": null,
      "metadata": {
        "id": "33ckt0MbW5yQ",
        "outputId": "65c639a2-a5ee-4d97-b53d-feea658b1c6f",
        "colab": {
          "base_uri": "https://localhost:8080/",
          "height": 347,
          "referenced_widgets": [
            "f818c0591c0f4008825f27b8854eef4f",
            "9c28e3f8329c4c59a0bfc74e2beb42a7",
            "dc633265888d4a71911719f259e74db6",
            "47d35c2cb34747599baeb80a5ba8394c",
            "398e8d5f201b4133b379169a30289fdd",
            "910d6c0192e8411e8ebc651b81a41789",
            "c20957e27af84bed93f00cd70f35d60a",
            "0c7947f1ff06495aac7f77a9e5cb0db8",
            "23470d5bfb7840db97516f9567523d64",
            "7808bb08fa4f4da7b6b3824dd7a28e99",
            "5a007e4a0fce424f911110c8da07f1c2"
          ]
        }
      },
      "outputs": [
        {
          "output_type": "stream",
          "name": "stderr",
          "text": [
            "WARNING:datasets.builder:Found cached dataset yelp_polarity (/root/.cache/huggingface/datasets/yelp_polarity/plain_text/1.0.0/14f90415c754f47cf9087eadac25823a395fef4400c7903c5897f55cfaaa6f61)\n"
          ]
        },
        {
          "output_type": "display_data",
          "data": {
            "text/plain": [
              "  0%|          | 0/2 [00:00<?, ?it/s]"
            ],
            "application/vnd.jupyter.widget-view+json": {
              "version_major": 2,
              "version_minor": 0,
              "model_id": "f818c0591c0f4008825f27b8854eef4f"
            }
          },
          "metadata": {}
        },
        {
          "output_type": "stream",
          "name": "stderr",
          "text": [
            "WARNING:datasets.arrow_dataset:Loading cached shuffled indices for dataset at /root/.cache/huggingface/datasets/yelp_polarity/plain_text/1.0.0/14f90415c754f47cf9087eadac25823a395fef4400c7903c5897f55cfaaa6f61/cache-23c5a631c81e9fac.arrow\n",
            "WARNING:datasets.arrow_dataset:Loading cached shuffled indices for dataset at /root/.cache/huggingface/datasets/yelp_polarity/plain_text/1.0.0/14f90415c754f47cf9087eadac25823a395fef4400c7903c5897f55cfaaa6f61/cache-d96c75757cd6de78.arrow\n"
          ]
        },
        {
          "output_type": "stream",
          "name": "stdout",
          "text": [
            "Some examples of the data:\n",
            "{\n",
            "  \"text\": \"Nice atmosphere, cool set-up.  We only had pizza, so I'll stick to that.   A bit on the pricey side for a personal pizza.  Doughy crust, no crunch.  WAY too much sauce, we were blotting it on the plates to remove the excess.   With Tony's Pizza a few steps away, I can't see why I would go back.  If you want good atmosphere or want to have a few beers, cool place.  If you just want to eat good food, you can find better.\",\n",
            "  \"label\": 0\n",
            "}\n",
            "{\n",
            "  \"text\": \"Good Pizza joint, good pizza and food for reasonable price for what you get. Kids like it. If you want to keep your kids entertained while you wait for your food ask for some dough...they will give you some for the table to play with.\",\n",
            "  \"label\": 1\n",
            "}\n",
            "{\n",
            "  \"text\": \"I love Pei Wei and couldn't resist eating here after my flight since the two close to my home recently changed. Decided to try their new Mandarin Kung Pao - bad decision. It was pure salt!  Hardly any chicken in the fried batter, no mandarin flavor what so ever, and did I mention, SALTY!!  \\\\n\\\\nThe two people beside me ordered the Mongolian steak and spicy chicken - I became jealous quick!\",\n",
            "  \"label\": 0\n",
            "}\n"
          ]
        }
      ],
      "source": [
        "yelp = datasets.load_dataset(\"yelp_polarity\")\n",
        "train_data = yelp[\"train\"].shuffle(seed=1).select(range(50))\n",
        "test_data = yelp[\"test\"].shuffle(seed=1).select(range(50))\n",
        "\n",
        "print(\"Some examples of the data:\")\n",
        "for i in range(3):\n",
        "  print(json.dumps(train_data[i], indent=2))\n"
      ]
    },
    {
      "cell_type": "markdown",
      "source": [
        "Now let's form a prompt from several of the examples in the train set."
      ],
      "metadata": {
        "id": "vOGuVpyola3g"
      }
    },
    {
      "cell_type": "code",
      "execution_count": null,
      "metadata": {
        "id": "XGmz9gglW5yR",
        "outputId": "e2e58365-1d4b-4e91-8812-8cb9f03a39bf",
        "colab": {
          "base_uri": "https://localhost:8080/"
        }
      },
      "outputs": [
        {
          "output_type": "stream",
          "name": "stdout",
          "text": [
            "YOUR PROMPT:\n",
            "Classify the sentiment of these yelp reviews as positive or negative.\n",
            "\n",
            "Review: Nice atmosphere, cool set-up.  We only had pizza, so I'll stick to that.   A bit on the pricey side for a personal pizza.  Doughy crust, no crunch.  WAY too much sauce, we were blotting it on the plates to remove the excess.   With Tony's Pizza a few steps away, I can't see why I would go back.  If you want good atmosphere or want to have a few beers, cool place.  If you just want to eat good food, you can find better.\n",
            "Sentiment: negative\n",
            "\n",
            "Review: Good Pizza joint, good pizza and food for reasonable price for what you get. Kids like it. If you want to keep your kids entertained while you wait for your food ask for some dough...they will give you some for the table to play with.\n",
            "Sentiment: positive\n",
            "\n",
            "Review: I love Pei Wei and couldn't resist eating here after my flight since the two close to my home recently changed. Decided to try their new Mandarin Kung Pao - bad decision. It was pure salt!  Hardly any chicken in the fried batter, no mandarin flavor what so ever, and did I mention, SALTY!!  \\n\\nThe two people beside me ordered the Mongolian steak and spicy chicken - I became jealous quick!\n",
            "Sentiment: negative\n",
            "\n",
            "Review: I had a bad experience here. I brought in my two boys and two ladies completely messed up their hair. They had patches and it was cut unevenly.  I will never step foot into this great clips again.\n",
            "Sentiment: negative\n",
            "\n",
            "\n"
          ]
        }
      ],
      "source": [
        "# convert integer labels to text\n",
        "label_map = {\n",
        "    0: \"negative\",\n",
        "    1: \"positive\"\n",
        "}\n",
        "\n",
        "instruction = \"Classify the sentiment of these yelp reviews as positive or negative.\\n\\n\"\n",
        "prompt_template = \"Review: {review}\\nSentiment: {sentiment}\\n\\n\"\n",
        "num_few_shot_examples = 4\n",
        "\n",
        "# construct the prompt by concatenating instructions and templates\n",
        "prompt_parts = [instruction]\n",
        "for i in range(num_few_shot_examples):\n",
        "  instance = train_data[i]\n",
        "  review = instance[\"text\"]\n",
        "  sentiment = label_map[instance[\"label\"]]\n",
        "  prompt_parts.append(prompt_template.format(review=review, sentiment=sentiment))\n",
        "prompt = ''.join(prompt_parts)\n",
        "\n",
        "\n",
        "print(\"YOUR PROMPT:\", prompt, sep='\\n')"
      ]
    },
    {
      "cell_type": "markdown",
      "source": [
        "How well does our prompt do on classifying examples in the test set?"
      ],
      "metadata": {
        "id": "sE7LENvVll9y"
      }
    },
    {
      "cell_type": "code",
      "execution_count": null,
      "metadata": {
        "id": "okUiE7-6W5yR"
      },
      "outputs": [],
      "source": [
        "# now we can feed the prompt to GPT-3 to classify a new review!\n",
        "\n",
        "eval_template = \"Review: {review}\\nSentiment: {sentiment}\"\n",
        "\n",
        "def classify_review(review: str) -> str:\n",
        "  \"\"\" Classify a single movie review \"\"\"\n",
        "  label_to_score = {}\n",
        "  for label in label_map.values():\n",
        "    label_prompt = prompt + eval_template.format(review=review, sentiment=label)\n",
        "    _, score = engine.score(label_prompt)\n",
        "    label_score = score[-1]\n",
        "    label_to_score[label] = label_score\n",
        "  \n",
        "  return max(label_to_score, key=label_to_score.get)\n",
        "\n",
        "\n",
        "def evaluate(verbose: bool=False) -> float:\n",
        "  \"\"\" Evaluate your prompt on the test set \"\"\"\n",
        "  correct = []\n",
        "  for i, instance in enumerate(test_data):\n",
        "    review = instance[\"text\"]\n",
        "    label = label_map[instance[\"label\"]]\n",
        "    predicted = classify_review(review)\n",
        "    correct.append(1 if label == predicted else 0)\n",
        "\n",
        "    if verbose:\n",
        "      print(f\"======== {i+1} / {len(test_data)} ========\")\n",
        "      print(f\"REVIEW: {review}\")\n",
        "      print(f\"LABEL: {label}\")\n",
        "      print(f\"PREDICTED: {predicted}\")\n",
        "\n",
        "  acc = sum(correct) / len(correct)\n",
        "  return acc\n",
        "\n",
        "\n",
        "acc = evaluate(verbose=True) # should get 100% performance\n",
        "print(f\"Accuracy of your prompt on {len(test_data)} test examples: {acc:.0%}\")"
      ]
    },
    {
      "cell_type": "markdown",
      "source": [
        "## ⭐⭐⭐ YOUR TURN ⭐⭐⭐\n",
        "\n",
        "How does test-set accuracy change if you pass in pass in fewer examples in the prompt (reduce `num_few_shot_examples`)? What if you pass in more?\n",
        "\n",
        "Right now, the prompt-generation code picks the examples to include completely randomly. This could lead to better or worse choices. To test one worse case scenario, what happens to test-set accuracy if you manually edit the prompt to only include examples with POSITIVE sentiment or only examples with NEGATIVE sentiment?"
      ],
      "metadata": {
        "id": "lPScm2I6nwdK"
      }
    },
    {
      "cell_type": "markdown",
      "metadata": {
        "id": "HzpJ2WN-n7xJ"
      },
      "source": [
        "# 1.6 Creating an Explanation Generator using Few-Shot Learning\n",
        "\n",
        "We can also use few-shot learning techniques to guide generation. Let's build a system that identifes puns."
      ]
    },
    {
      "cell_type": "code",
      "execution_count": null,
      "metadata": {
        "colab": {
          "base_uri": "https://localhost:8080/"
        },
        "id": "AJMfYq3cn5M2",
        "outputId": "cb37a5c9-5ffa-444e-d600-bacbec30bf33"
      },
      "outputs": [
        {
          "name": "stdout",
          "output_type": "stream",
          "text": [
            "Explain each pun.\n",
            "\n",
            "Pun: I made a pun about the wind but it blows.\n",
            "Explanation: \"Blows\" can either refer to moving air, or it refer to the pun being not very good.\n",
            "\n",
            "Pun: What washes up on tiny beaches? Microwaves.\n",
            "Explanation: A microwave is either a kitchen appliance or it could mean a tiny wave.\n",
            "\n",
            "Pun: I'm no cheetah, you're lion!\n",
            "Explanation: The feline \"lion\" sounds like the word \"lying,\" while the feline \"cheetah\" sounds like \"cheating.\"\n",
            "\n",
            "\n"
          ]
        }
      ],
      "source": [
        "instruction = \"Explain each pun.\\n\\n\"\n",
        "few_shot_examples = [\n",
        "    ('I made a pun about the wind but it blows.', '\"Blows\" can either refer to moving air, or it refer to the pun being not very good.'),\n",
        "    (\"What washes up on tiny beaches? Microwaves.\", \"A microwave is either a kitchen appliance or it could mean a tiny wave.\"),\n",
        "    (\"I'm no cheetah, you're lion!\", 'The feline \"lion\" sounds like the word \"lying,\" while the feline \"cheetah\" sounds like \"cheating.\"')]\n",
        "prompt_template = \"Pun: {pun}\\nExplanation: {explanation}\\n\\n\"\n",
        "\n",
        "prompt_parts = [instruction]\n",
        "for pun, explanation in few_shot_examples:\n",
        "    prompt_parts.append(prompt_template.format(pun=pun, explanation=explanation))\n",
        "prompt = ''.join(prompt_parts)\n",
        "print(prompt)"
      ]
    },
    {
      "cell_type": "code",
      "execution_count": null,
      "metadata": {
        "colab": {
          "base_uri": "https://localhost:8080/"
        },
        "id": "2nxmupVv0mgP",
        "outputId": "a98ea8fd-e743-4299-cc24-bf407bccaea4"
      },
      "outputs": [
        {
          "name": "stdout",
          "output_type": "stream",
          "text": [
            " \"Dragon\" can refer to a mythical creature, or it can mean to drag on.\n"
          ]
        }
      ],
      "source": [
        "query_pun = \"Long fairy tales have a tendency to dragon.\"\n",
        "prompt_with_query = prompt + \"Pun: {pun}\\nExplanation:\".format(pun=query_pun)\n",
        "print(engine.generate(prompt_with_query, top_p=0.0, num_tokens=32))"
      ]
    },
    {
      "cell_type": "markdown",
      "metadata": {
        "id": "hExIKb-KyvOY"
      },
      "source": [
        "## ⭐⭐⭐ YOUR TURN ⭐⭐⭐\n",
        "\n",
        "Experiment with changing up the order of the few-shot examples above, or deleting then and writing your own. Can you get the language model to do this task using only an instruction and no few-shot examples? Can you come up with examples that work better than the provided ones?\n",
        "\n",
        "🔶🔸Take screenshots of your findings and share them on the #tutorial-1-show-and-tell channel on Slack.\n",
        "🔸🔶"
      ]
    },
    {
      "cell_type": "markdown",
      "metadata": {
        "id": "QFPjgd0MgyZO"
      },
      "source": [
        "# 1.7 Building a Chatbot\n",
        "\n",
        "How do we go from a language model trained on vast amounts of internet data to a chatbot that can converse with you in a particular style?\n",
        "\n",
        "One approach is to collect a bunch of conversation data then finetune the pre-trained model on this collection. This is the approach taken by well-known models such as [LLaMA](https://blog.google/technology/ai/lamda/) and [ChatGPT](https://openai.com/blog/chatgpt).\n",
        "\n",
        "However, it's possible to build a reasonably good chatbot from a pre-trained model solely using in-context learning techniques without any conversational fine-tuning."
      ]
    },
    {
      "cell_type": "markdown",
      "metadata": {
        "id": "r-QzoCG-tnJR"
      },
      "source": [
        "## ⭐⭐⭐ YOUR TURN ⭐⭐⭐\n",
        "\n",
        "Try chatting with the squirrel chatbot by runnig the code block below. Does it stay in character, even as the conversation gets longer?\n",
        "\n",
        "Try following the same template to build a chatbot with a different persona. As some ideas, you could try building a Shakepeare chatbot or a pirate chatbot.\n",
        "\n",
        "*Tip: To stop the code running, press the stop button at the top-left of the code block.*\n",
        "\n",
        "🔶🔸Take screenshots of your chatbot conversations and share them on the #tutorial-1-show-and-tell channel on Slack.\n",
        "🔸🔶"
      ]
    },
    {
      "cell_type": "code",
      "execution_count": null,
      "metadata": {
        "id": "SJkqcE9dj_e1"
      },
      "outputs": [],
      "source": [
        "conversation = [\n",
        "    'Who are you?',\n",
        "    'I am Nutty, and I am a squirrel. I live in Squirrel Hill.',\n",
        "    'What do you like to eat?',\n",
        "    'I am supposed to eat nuts, seeds, grains, and veggies. But I do love to grab a half-eaten donut or pizza slice from the human garbage bin.',\n",
        "    'How old are you?',\n",
        "    'I am eight years old. That is quite old for a suirrel. We normally live 5-10 years in the wild.'\n",
        "    'What do you do for fun?',\n",
        "    'Race in circles around the big maple tree.',\n",
        "]\n",
        "\n",
        "def form_prompt(conv):\n",
        "  \"\"\"Turns the list of conversational turns into a prompt for the model.\"\"\"\n",
        "  prompt = \"\"\n",
        "  for idx, message in enumerate(conv + [\"\"]):\n",
        "    to_append = f\"{'B' if idx%2 else 'A'}: {message}\\n\"\n",
        "    prompt += to_append\n",
        "  return prompt.strip()\n",
        "\n",
        "\n",
        "cur_conv = conversation \n",
        "print(form_prompt(cur_conv))\n",
        "# Set up a conversational loop.\n",
        "while (1):\n",
        "  user_message = input(\"Message the chatbot: \")\n",
        "  cur_conv.append(user_message)\n",
        "  clear_output()\n",
        "  prompt = form_prompt(cur_conv)\n",
        "  response = engine.generate(prompt, num_tokens=64).split(\"\\n\")[0]\n",
        "  print(prompt + response)"
      ]
    },
    {
      "cell_type": "markdown",
      "metadata": {
        "id": "JUROSKw9jQvy"
      },
      "source": [
        "# Unit 2: Comparing Different Models\n",
        "\n",
        "In Unit 1, you learned how to generate text given a prompt and how to analyze model likelihoods.\n",
        "\n",
        "In this unit, we will look at how different models behave on the same prompt.\n"
      ]
    },
    {
      "cell_type": "markdown",
      "source": [
        "## 2.1 With and Without Instruction Tuning\n",
        "\n",
        "Let's take a look at the differences between pre-trained models trained mostly on internet data and finetuned models which have trained to exhibit alignment with user (or model creator) goals.\n",
        "\n",
        "You can either choose to complete this module using OpenAI's models or open-source models.\n",
        " "
      ],
      "metadata": {
        "id": "N8YeW-3Ko_Da"
      }
    },
    {
      "cell_type": "markdown",
      "source": [
        "### [PICK ONE] GPT-3 v1 vs GPT 3.4\n",
        "The original GPT-3 was trained on a mixture of internet, book, and other data.\n",
        "It did not have any alignment-based finetuning.\n",
        "GPT 3.5 is an updated version of GPT-3 that was optmized to expect a chat format, perform instruction-following, and have safer responses.\n",
        "\n",
        "*Note: You'll need to run the OpenAI GPT-3 code block in Unit 1 for the following code block to run.*"
      ],
      "metadata": {
        "id": "8ofpUTaDq9bX"
      }
    },
    {
      "cell_type": "code",
      "source": [
        "pretrained_engine = OpenAIEngine(\"davinci\")\n",
        "aligned_engine = OpenAIEngine(\"text-davinci-003\")"
      ],
      "metadata": {
        "id": "Y79Yz1p5q5SN"
      },
      "execution_count": null,
      "outputs": []
    },
    {
      "cell_type": "markdown",
      "source": [
        "### [PICK ONE] LLaMA vs. Alpaca\n",
        "\n",
        "As mentioned in Unit 1, LLaMA is a model pre-trained mostly on webtext.\n",
        "[**Alpaca**](https://crfm.stanford.edu/2023/03/13/alpaca.html) is a finetuned version of LLaMa that was built by researchers from Stanford.\n",
        "It is designed for academic research and to promote accessibility to models with capabilities similar to closed-source models like OpenAI's text-davinci-003. Based on Meta's LLaMA 7B model, Alpaca is trained on instruction-following demonstrations in the same style as the ones used for text-davinci-003. It has demonstrated similar behaviors to OpenAI's text-davinci-003 in various aspects while being smaller and more easily reproducible.\n",
        "\n",
        "*Note: You'll need to run the LLaMa code block in Unit 1 for the following code block to run.*"
      ],
      "metadata": {
        "id": "1jDpHXVprBKY"
      }
    },
    {
      "cell_type": "code",
      "source": [
        "pretrained_engine = LlamaEngine(\"LLaMA\")\n",
        "aligned_engine = LlamaEngine(\"Alpaca\")"
      ],
      "metadata": {
        "id": "n3UuQpWzrHEK"
      },
      "execution_count": null,
      "outputs": []
    },
    {
      "cell_type": "markdown",
      "source": [
        "## ⭐⭐⭐ YOUR TURN ⭐⭐⭐\n",
        "\n",
        "Can you identify prompts where the behavior of the two modelsa is very different? Some suggestions are shown below."
      ],
      "metadata": {
        "id": "4eSwSsPV8PmT"
      }
    },
    {
      "cell_type": "code",
      "source": [
        "prompt = \"Tell me a story about a hippopotamus encountering a fairy.\"\n",
        "\n",
        "print(\"PRE-TRAINED MODEL:\")\n",
        "print(textwrap.fill(pretrained_engine.generate(prompt, num_tokens=64, top_p=0.1, num_samples=1)))\n",
        "\n",
        "print(\"\\nALIGNED MODEL:\")\n",
        "print(textwrap.fill(aligned_engine.generate(prompt, num_tokens=64, top_p=0.1, num_samples=1)))"
      ],
      "metadata": {
        "id": "0HTsZ1EG8fxi",
        "outputId": "edb970f3-a029-4be9-c33b-76f351cadfc6",
        "colab": {
          "base_uri": "https://localhost:8080/"
        }
      },
      "execution_count": null,
      "outputs": [
        {
          "output_type": "stream",
          "name": "stdout",
          "text": [
            "PRE-TRAINED MODEL:\n",
            "” I said.  “I don’t know any stories about hippopotamuses,” she said.\n",
            "“I don’t know any stories about hippopotamuses,” I said.  “I don’t\n",
            "know any stories about\n",
            "\n",
            "ALIGNED MODEL:\n",
            "  Once upon a time, there was a large and friendly hippopotamus who\n",
            "lived in a peaceful river in the African savannah. One day, while the\n",
            "hippo was taking a leisurely swim, he noticed a tiny sparkle in the\n",
            "corner of his eye. He looked closer and saw a beautiful fairy fl\n"
          ]
        }
      ]
    },
    {
      "cell_type": "code",
      "source": [
        "prompt = \"I need advice on where to go to grad school.\"\n",
        "\n",
        "print(\"PRE-TRAINED MODEL:\")\n",
        "print(textwrap.fill(pretrained_engine.generate(prompt, num_tokens=64, top_p=0.1, num_samples=1)))\n",
        "\n",
        "print(\"\\nALIGNED MODEL:\")\n",
        "print(textwrap.fill(aligned_engine.generate(prompt, num_tokens=64, top_p=0.1, num_samples=1)))"
      ],
      "metadata": {
        "id": "eIPUsx30-lJP",
        "outputId": "6851f7f7-08dd-46a1-b49e-4d2905d23ea2",
        "colab": {
          "base_uri": "https://localhost:8080/"
        }
      },
      "execution_count": null,
      "outputs": [
        {
          "output_type": "stream",
          "name": "stdout",
          "text": [
            "PRE-TRAINED MODEL:\n",
            " I have a B.S. in Biology and a minor in Chemistry. I have a 3.8 GPA\n",
            "and a 161 on the GRE. I have been accepted to the University of\n",
            "Washington, University of California, Davis, and the University of\n",
            "California, San Diego. I am leaning towards UC Davis, but I am\n",
            "\n",
            "ALIGNED MODEL:\n",
            "  The best advice is to research the different graduate programs\n",
            "available and find the one that best fits your academic and career\n",
            "goals. Consider factors such as location, cost, program length,\n",
            "faculty, and curriculum. Talk to current students and alumni of the\n",
            "programs you are considering to get a better understanding of the\n",
            "school and its\n"
          ]
        }
      ]
    }
  ],
  "metadata": {
    "colab": {
      "provenance": [],
      "toc_visible": true,
      "gpuType": "T4",
      "include_colab_link": true
    },
    "kernelspec": {
      "display_name": "Python 3",
      "name": "python3"
    },
    "language_info": {
      "codemirror_mode": {
        "name": "ipython",
        "version": 3
      },
      "file_extension": ".py",
      "mimetype": "text/x-python",
      "name": "python",
      "nbconvert_exporter": "python",
      "pygments_lexer": "ipython3",
      "version": "3.10.11"
    },
    "widgets": {
      "application/vnd.jupyter.widget-state+json": {
        "300f1a72991f439194f6d9effd125f13": {
          "model_module": "@jupyter-widgets/controls",
          "model_name": "HBoxModel",
          "model_module_version": "1.5.0",
          "state": {
            "_dom_classes": [],
            "_model_module": "@jupyter-widgets/controls",
            "_model_module_version": "1.5.0",
            "_model_name": "HBoxModel",
            "_view_count": null,
            "_view_module": "@jupyter-widgets/controls",
            "_view_module_version": "1.5.0",
            "_view_name": "HBoxView",
            "box_style": "",
            "children": [
              "IPY_MODEL_7c776748c6694eb5a5bc622d003e3694",
              "IPY_MODEL_1aeac3429d1541ceafab317680ef8d62",
              "IPY_MODEL_691abd6c60b8483aaacb1e2cc84949f6"
            ],
            "layout": "IPY_MODEL_c50c6a674c89404db5d8144732c2222a"
          }
        },
        "7c776748c6694eb5a5bc622d003e3694": {
          "model_module": "@jupyter-widgets/controls",
          "model_name": "HTMLModel",
          "model_module_version": "1.5.0",
          "state": {
            "_dom_classes": [],
            "_model_module": "@jupyter-widgets/controls",
            "_model_module_version": "1.5.0",
            "_model_name": "HTMLModel",
            "_view_count": null,
            "_view_module": "@jupyter-widgets/controls",
            "_view_module_version": "1.5.0",
            "_view_name": "HTMLView",
            "description": "",
            "description_tooltip": null,
            "layout": "IPY_MODEL_76dd5f774f7b4d8089a10442df14643e",
            "placeholder": "​",
            "style": "IPY_MODEL_48930e9c46484930bf1ecb154e9303d4",
            "value": "Downloading (…)lve/main/config.json: 100%"
          }
        },
        "1aeac3429d1541ceafab317680ef8d62": {
          "model_module": "@jupyter-widgets/controls",
          "model_name": "FloatProgressModel",
          "model_module_version": "1.5.0",
          "state": {
            "_dom_classes": [],
            "_model_module": "@jupyter-widgets/controls",
            "_model_module_version": "1.5.0",
            "_model_name": "FloatProgressModel",
            "_view_count": null,
            "_view_module": "@jupyter-widgets/controls",
            "_view_module_version": "1.5.0",
            "_view_name": "ProgressView",
            "bar_style": "success",
            "description": "",
            "description_tooltip": null,
            "layout": "IPY_MODEL_7905ce8e55754307988698c7723c29f5",
            "max": 666,
            "min": 0,
            "orientation": "horizontal",
            "style": "IPY_MODEL_eeb9b449a49945399dc84c749dd63990",
            "value": 666
          }
        },
        "691abd6c60b8483aaacb1e2cc84949f6": {
          "model_module": "@jupyter-widgets/controls",
          "model_name": "HTMLModel",
          "model_module_version": "1.5.0",
          "state": {
            "_dom_classes": [],
            "_model_module": "@jupyter-widgets/controls",
            "_model_module_version": "1.5.0",
            "_model_name": "HTMLModel",
            "_view_count": null,
            "_view_module": "@jupyter-widgets/controls",
            "_view_module_version": "1.5.0",
            "_view_name": "HTMLView",
            "description": "",
            "description_tooltip": null,
            "layout": "IPY_MODEL_f81bcb5575bc400a89ccaf6916e01e80",
            "placeholder": "​",
            "style": "IPY_MODEL_630b904e021a436b8b91426e8cc07190",
            "value": " 666/666 [00:00&lt;00:00, 37.4kB/s]"
          }
        },
        "c50c6a674c89404db5d8144732c2222a": {
          "model_module": "@jupyter-widgets/base",
          "model_name": "LayoutModel",
          "model_module_version": "1.2.0",
          "state": {
            "_model_module": "@jupyter-widgets/base",
            "_model_module_version": "1.2.0",
            "_model_name": "LayoutModel",
            "_view_count": null,
            "_view_module": "@jupyter-widgets/base",
            "_view_module_version": "1.2.0",
            "_view_name": "LayoutView",
            "align_content": null,
            "align_items": null,
            "align_self": null,
            "border": null,
            "bottom": null,
            "display": null,
            "flex": null,
            "flex_flow": null,
            "grid_area": null,
            "grid_auto_columns": null,
            "grid_auto_flow": null,
            "grid_auto_rows": null,
            "grid_column": null,
            "grid_gap": null,
            "grid_row": null,
            "grid_template_areas": null,
            "grid_template_columns": null,
            "grid_template_rows": null,
            "height": null,
            "justify_content": null,
            "justify_items": null,
            "left": null,
            "margin": null,
            "max_height": null,
            "max_width": null,
            "min_height": null,
            "min_width": null,
            "object_fit": null,
            "object_position": null,
            "order": null,
            "overflow": null,
            "overflow_x": null,
            "overflow_y": null,
            "padding": null,
            "right": null,
            "top": null,
            "visibility": null,
            "width": null
          }
        },
        "76dd5f774f7b4d8089a10442df14643e": {
          "model_module": "@jupyter-widgets/base",
          "model_name": "LayoutModel",
          "model_module_version": "1.2.0",
          "state": {
            "_model_module": "@jupyter-widgets/base",
            "_model_module_version": "1.2.0",
            "_model_name": "LayoutModel",
            "_view_count": null,
            "_view_module": "@jupyter-widgets/base",
            "_view_module_version": "1.2.0",
            "_view_name": "LayoutView",
            "align_content": null,
            "align_items": null,
            "align_self": null,
            "border": null,
            "bottom": null,
            "display": null,
            "flex": null,
            "flex_flow": null,
            "grid_area": null,
            "grid_auto_columns": null,
            "grid_auto_flow": null,
            "grid_auto_rows": null,
            "grid_column": null,
            "grid_gap": null,
            "grid_row": null,
            "grid_template_areas": null,
            "grid_template_columns": null,
            "grid_template_rows": null,
            "height": null,
            "justify_content": null,
            "justify_items": null,
            "left": null,
            "margin": null,
            "max_height": null,
            "max_width": null,
            "min_height": null,
            "min_width": null,
            "object_fit": null,
            "object_position": null,
            "order": null,
            "overflow": null,
            "overflow_x": null,
            "overflow_y": null,
            "padding": null,
            "right": null,
            "top": null,
            "visibility": null,
            "width": null
          }
        },
        "48930e9c46484930bf1ecb154e9303d4": {
          "model_module": "@jupyter-widgets/controls",
          "model_name": "DescriptionStyleModel",
          "model_module_version": "1.5.0",
          "state": {
            "_model_module": "@jupyter-widgets/controls",
            "_model_module_version": "1.5.0",
            "_model_name": "DescriptionStyleModel",
            "_view_count": null,
            "_view_module": "@jupyter-widgets/base",
            "_view_module_version": "1.2.0",
            "_view_name": "StyleView",
            "description_width": ""
          }
        },
        "7905ce8e55754307988698c7723c29f5": {
          "model_module": "@jupyter-widgets/base",
          "model_name": "LayoutModel",
          "model_module_version": "1.2.0",
          "state": {
            "_model_module": "@jupyter-widgets/base",
            "_model_module_version": "1.2.0",
            "_model_name": "LayoutModel",
            "_view_count": null,
            "_view_module": "@jupyter-widgets/base",
            "_view_module_version": "1.2.0",
            "_view_name": "LayoutView",
            "align_content": null,
            "align_items": null,
            "align_self": null,
            "border": null,
            "bottom": null,
            "display": null,
            "flex": null,
            "flex_flow": null,
            "grid_area": null,
            "grid_auto_columns": null,
            "grid_auto_flow": null,
            "grid_auto_rows": null,
            "grid_column": null,
            "grid_gap": null,
            "grid_row": null,
            "grid_template_areas": null,
            "grid_template_columns": null,
            "grid_template_rows": null,
            "height": null,
            "justify_content": null,
            "justify_items": null,
            "left": null,
            "margin": null,
            "max_height": null,
            "max_width": null,
            "min_height": null,
            "min_width": null,
            "object_fit": null,
            "object_position": null,
            "order": null,
            "overflow": null,
            "overflow_x": null,
            "overflow_y": null,
            "padding": null,
            "right": null,
            "top": null,
            "visibility": null,
            "width": null
          }
        },
        "eeb9b449a49945399dc84c749dd63990": {
          "model_module": "@jupyter-widgets/controls",
          "model_name": "ProgressStyleModel",
          "model_module_version": "1.5.0",
          "state": {
            "_model_module": "@jupyter-widgets/controls",
            "_model_module_version": "1.5.0",
            "_model_name": "ProgressStyleModel",
            "_view_count": null,
            "_view_module": "@jupyter-widgets/base",
            "_view_module_version": "1.2.0",
            "_view_name": "StyleView",
            "bar_color": null,
            "description_width": ""
          }
        },
        "f81bcb5575bc400a89ccaf6916e01e80": {
          "model_module": "@jupyter-widgets/base",
          "model_name": "LayoutModel",
          "model_module_version": "1.2.0",
          "state": {
            "_model_module": "@jupyter-widgets/base",
            "_model_module_version": "1.2.0",
            "_model_name": "LayoutModel",
            "_view_count": null,
            "_view_module": "@jupyter-widgets/base",
            "_view_module_version": "1.2.0",
            "_view_name": "LayoutView",
            "align_content": null,
            "align_items": null,
            "align_self": null,
            "border": null,
            "bottom": null,
            "display": null,
            "flex": null,
            "flex_flow": null,
            "grid_area": null,
            "grid_auto_columns": null,
            "grid_auto_flow": null,
            "grid_auto_rows": null,
            "grid_column": null,
            "grid_gap": null,
            "grid_row": null,
            "grid_template_areas": null,
            "grid_template_columns": null,
            "grid_template_rows": null,
            "height": null,
            "justify_content": null,
            "justify_items": null,
            "left": null,
            "margin": null,
            "max_height": null,
            "max_width": null,
            "min_height": null,
            "min_width": null,
            "object_fit": null,
            "object_position": null,
            "order": null,
            "overflow": null,
            "overflow_x": null,
            "overflow_y": null,
            "padding": null,
            "right": null,
            "top": null,
            "visibility": null,
            "width": null
          }
        },
        "630b904e021a436b8b91426e8cc07190": {
          "model_module": "@jupyter-widgets/controls",
          "model_name": "DescriptionStyleModel",
          "model_module_version": "1.5.0",
          "state": {
            "_model_module": "@jupyter-widgets/controls",
            "_model_module_version": "1.5.0",
            "_model_name": "DescriptionStyleModel",
            "_view_count": null,
            "_view_module": "@jupyter-widgets/base",
            "_view_module_version": "1.2.0",
            "_view_name": "StyleView",
            "description_width": ""
          }
        },
        "80e21f36a261491abda9eff4549c9203": {
          "model_module": "@jupyter-widgets/controls",
          "model_name": "HBoxModel",
          "model_module_version": "1.5.0",
          "state": {
            "_dom_classes": [],
            "_model_module": "@jupyter-widgets/controls",
            "_model_module_version": "1.5.0",
            "_model_name": "HBoxModel",
            "_view_count": null,
            "_view_module": "@jupyter-widgets/controls",
            "_view_module_version": "1.5.0",
            "_view_name": "HBoxView",
            "box_style": "",
            "children": [
              "IPY_MODEL_a9f9ae7330f84af49a7e6314f87cf129",
              "IPY_MODEL_a378b851ec9a4120aac33dfd4343fa83",
              "IPY_MODEL_fedb146af5644bdaa3059a9db82232b7"
            ],
            "layout": "IPY_MODEL_f0989fb1d5154ba7850487c271b3918b"
          }
        },
        "a9f9ae7330f84af49a7e6314f87cf129": {
          "model_module": "@jupyter-widgets/controls",
          "model_name": "HTMLModel",
          "model_module_version": "1.5.0",
          "state": {
            "_dom_classes": [],
            "_model_module": "@jupyter-widgets/controls",
            "_model_module_version": "1.5.0",
            "_model_name": "HTMLModel",
            "_view_count": null,
            "_view_module": "@jupyter-widgets/controls",
            "_view_module_version": "1.5.0",
            "_view_name": "HTMLView",
            "description": "",
            "description_tooltip": null,
            "layout": "IPY_MODEL_a1775ca16682412d9affcc827c2047bb",
            "placeholder": "​",
            "style": "IPY_MODEL_107e8918071a4056925900ebd0b59f1e",
            "value": "Downloading (…)olve/main/vocab.json: 100%"
          }
        },
        "a378b851ec9a4120aac33dfd4343fa83": {
          "model_module": "@jupyter-widgets/controls",
          "model_name": "FloatProgressModel",
          "model_module_version": "1.5.0",
          "state": {
            "_dom_classes": [],
            "_model_module": "@jupyter-widgets/controls",
            "_model_module_version": "1.5.0",
            "_model_name": "FloatProgressModel",
            "_view_count": null,
            "_view_module": "@jupyter-widgets/controls",
            "_view_module_version": "1.5.0",
            "_view_name": "ProgressView",
            "bar_style": "success",
            "description": "",
            "description_tooltip": null,
            "layout": "IPY_MODEL_49d02ec3b4de4dcba0f9a36559e20d3b",
            "max": 1042301,
            "min": 0,
            "orientation": "horizontal",
            "style": "IPY_MODEL_59a7667167e04642a9800a1f00f2a5a1",
            "value": 1042301
          }
        },
        "fedb146af5644bdaa3059a9db82232b7": {
          "model_module": "@jupyter-widgets/controls",
          "model_name": "HTMLModel",
          "model_module_version": "1.5.0",
          "state": {
            "_dom_classes": [],
            "_model_module": "@jupyter-widgets/controls",
            "_model_module_version": "1.5.0",
            "_model_name": "HTMLModel",
            "_view_count": null,
            "_view_module": "@jupyter-widgets/controls",
            "_view_module_version": "1.5.0",
            "_view_name": "HTMLView",
            "description": "",
            "description_tooltip": null,
            "layout": "IPY_MODEL_606be71dc87b4e7b99c7fa2422ff0892",
            "placeholder": "​",
            "style": "IPY_MODEL_f76318d245d94fff9058ae8e69510365",
            "value": " 1.04M/1.04M [00:00&lt;00:00, 1.24MB/s]"
          }
        },
        "f0989fb1d5154ba7850487c271b3918b": {
          "model_module": "@jupyter-widgets/base",
          "model_name": "LayoutModel",
          "model_module_version": "1.2.0",
          "state": {
            "_model_module": "@jupyter-widgets/base",
            "_model_module_version": "1.2.0",
            "_model_name": "LayoutModel",
            "_view_count": null,
            "_view_module": "@jupyter-widgets/base",
            "_view_module_version": "1.2.0",
            "_view_name": "LayoutView",
            "align_content": null,
            "align_items": null,
            "align_self": null,
            "border": null,
            "bottom": null,
            "display": null,
            "flex": null,
            "flex_flow": null,
            "grid_area": null,
            "grid_auto_columns": null,
            "grid_auto_flow": null,
            "grid_auto_rows": null,
            "grid_column": null,
            "grid_gap": null,
            "grid_row": null,
            "grid_template_areas": null,
            "grid_template_columns": null,
            "grid_template_rows": null,
            "height": null,
            "justify_content": null,
            "justify_items": null,
            "left": null,
            "margin": null,
            "max_height": null,
            "max_width": null,
            "min_height": null,
            "min_width": null,
            "object_fit": null,
            "object_position": null,
            "order": null,
            "overflow": null,
            "overflow_x": null,
            "overflow_y": null,
            "padding": null,
            "right": null,
            "top": null,
            "visibility": null,
            "width": null
          }
        },
        "a1775ca16682412d9affcc827c2047bb": {
          "model_module": "@jupyter-widgets/base",
          "model_name": "LayoutModel",
          "model_module_version": "1.2.0",
          "state": {
            "_model_module": "@jupyter-widgets/base",
            "_model_module_version": "1.2.0",
            "_model_name": "LayoutModel",
            "_view_count": null,
            "_view_module": "@jupyter-widgets/base",
            "_view_module_version": "1.2.0",
            "_view_name": "LayoutView",
            "align_content": null,
            "align_items": null,
            "align_self": null,
            "border": null,
            "bottom": null,
            "display": null,
            "flex": null,
            "flex_flow": null,
            "grid_area": null,
            "grid_auto_columns": null,
            "grid_auto_flow": null,
            "grid_auto_rows": null,
            "grid_column": null,
            "grid_gap": null,
            "grid_row": null,
            "grid_template_areas": null,
            "grid_template_columns": null,
            "grid_template_rows": null,
            "height": null,
            "justify_content": null,
            "justify_items": null,
            "left": null,
            "margin": null,
            "max_height": null,
            "max_width": null,
            "min_height": null,
            "min_width": null,
            "object_fit": null,
            "object_position": null,
            "order": null,
            "overflow": null,
            "overflow_x": null,
            "overflow_y": null,
            "padding": null,
            "right": null,
            "top": null,
            "visibility": null,
            "width": null
          }
        },
        "107e8918071a4056925900ebd0b59f1e": {
          "model_module": "@jupyter-widgets/controls",
          "model_name": "DescriptionStyleModel",
          "model_module_version": "1.5.0",
          "state": {
            "_model_module": "@jupyter-widgets/controls",
            "_model_module_version": "1.5.0",
            "_model_name": "DescriptionStyleModel",
            "_view_count": null,
            "_view_module": "@jupyter-widgets/base",
            "_view_module_version": "1.2.0",
            "_view_name": "StyleView",
            "description_width": ""
          }
        },
        "49d02ec3b4de4dcba0f9a36559e20d3b": {
          "model_module": "@jupyter-widgets/base",
          "model_name": "LayoutModel",
          "model_module_version": "1.2.0",
          "state": {
            "_model_module": "@jupyter-widgets/base",
            "_model_module_version": "1.2.0",
            "_model_name": "LayoutModel",
            "_view_count": null,
            "_view_module": "@jupyter-widgets/base",
            "_view_module_version": "1.2.0",
            "_view_name": "LayoutView",
            "align_content": null,
            "align_items": null,
            "align_self": null,
            "border": null,
            "bottom": null,
            "display": null,
            "flex": null,
            "flex_flow": null,
            "grid_area": null,
            "grid_auto_columns": null,
            "grid_auto_flow": null,
            "grid_auto_rows": null,
            "grid_column": null,
            "grid_gap": null,
            "grid_row": null,
            "grid_template_areas": null,
            "grid_template_columns": null,
            "grid_template_rows": null,
            "height": null,
            "justify_content": null,
            "justify_items": null,
            "left": null,
            "margin": null,
            "max_height": null,
            "max_width": null,
            "min_height": null,
            "min_width": null,
            "object_fit": null,
            "object_position": null,
            "order": null,
            "overflow": null,
            "overflow_x": null,
            "overflow_y": null,
            "padding": null,
            "right": null,
            "top": null,
            "visibility": null,
            "width": null
          }
        },
        "59a7667167e04642a9800a1f00f2a5a1": {
          "model_module": "@jupyter-widgets/controls",
          "model_name": "ProgressStyleModel",
          "model_module_version": "1.5.0",
          "state": {
            "_model_module": "@jupyter-widgets/controls",
            "_model_module_version": "1.5.0",
            "_model_name": "ProgressStyleModel",
            "_view_count": null,
            "_view_module": "@jupyter-widgets/base",
            "_view_module_version": "1.2.0",
            "_view_name": "StyleView",
            "bar_color": null,
            "description_width": ""
          }
        },
        "606be71dc87b4e7b99c7fa2422ff0892": {
          "model_module": "@jupyter-widgets/base",
          "model_name": "LayoutModel",
          "model_module_version": "1.2.0",
          "state": {
            "_model_module": "@jupyter-widgets/base",
            "_model_module_version": "1.2.0",
            "_model_name": "LayoutModel",
            "_view_count": null,
            "_view_module": "@jupyter-widgets/base",
            "_view_module_version": "1.2.0",
            "_view_name": "LayoutView",
            "align_content": null,
            "align_items": null,
            "align_self": null,
            "border": null,
            "bottom": null,
            "display": null,
            "flex": null,
            "flex_flow": null,
            "grid_area": null,
            "grid_auto_columns": null,
            "grid_auto_flow": null,
            "grid_auto_rows": null,
            "grid_column": null,
            "grid_gap": null,
            "grid_row": null,
            "grid_template_areas": null,
            "grid_template_columns": null,
            "grid_template_rows": null,
            "height": null,
            "justify_content": null,
            "justify_items": null,
            "left": null,
            "margin": null,
            "max_height": null,
            "max_width": null,
            "min_height": null,
            "min_width": null,
            "object_fit": null,
            "object_position": null,
            "order": null,
            "overflow": null,
            "overflow_x": null,
            "overflow_y": null,
            "padding": null,
            "right": null,
            "top": null,
            "visibility": null,
            "width": null
          }
        },
        "f76318d245d94fff9058ae8e69510365": {
          "model_module": "@jupyter-widgets/controls",
          "model_name": "DescriptionStyleModel",
          "model_module_version": "1.5.0",
          "state": {
            "_model_module": "@jupyter-widgets/controls",
            "_model_module_version": "1.5.0",
            "_model_name": "DescriptionStyleModel",
            "_view_count": null,
            "_view_module": "@jupyter-widgets/base",
            "_view_module_version": "1.2.0",
            "_view_name": "StyleView",
            "description_width": ""
          }
        },
        "18efc3b7e25c4a5a9abc8c4a84dedcb6": {
          "model_module": "@jupyter-widgets/controls",
          "model_name": "HBoxModel",
          "model_module_version": "1.5.0",
          "state": {
            "_dom_classes": [],
            "_model_module": "@jupyter-widgets/controls",
            "_model_module_version": "1.5.0",
            "_model_name": "HBoxModel",
            "_view_count": null,
            "_view_module": "@jupyter-widgets/controls",
            "_view_module_version": "1.5.0",
            "_view_name": "HBoxView",
            "box_style": "",
            "children": [
              "IPY_MODEL_5db5d9ba6d9643a99bb96dc0927ff776",
              "IPY_MODEL_c340ea221db8405ca9124e53dbe4e030",
              "IPY_MODEL_11bdd69d991c4ac782c69195bcbc570f"
            ],
            "layout": "IPY_MODEL_af2b1182b36d4791bfd28e57714acdc5"
          }
        },
        "5db5d9ba6d9643a99bb96dc0927ff776": {
          "model_module": "@jupyter-widgets/controls",
          "model_name": "HTMLModel",
          "model_module_version": "1.5.0",
          "state": {
            "_dom_classes": [],
            "_model_module": "@jupyter-widgets/controls",
            "_model_module_version": "1.5.0",
            "_model_name": "HTMLModel",
            "_view_count": null,
            "_view_module": "@jupyter-widgets/controls",
            "_view_module_version": "1.5.0",
            "_view_name": "HTMLView",
            "description": "",
            "description_tooltip": null,
            "layout": "IPY_MODEL_802e283675194427abd9c7dc6888b2db",
            "placeholder": "​",
            "style": "IPY_MODEL_af614d3d72c64a9890ce4b785c4ce489",
            "value": "Downloading (…)olve/main/merges.txt: 100%"
          }
        },
        "c340ea221db8405ca9124e53dbe4e030": {
          "model_module": "@jupyter-widgets/controls",
          "model_name": "FloatProgressModel",
          "model_module_version": "1.5.0",
          "state": {
            "_dom_classes": [],
            "_model_module": "@jupyter-widgets/controls",
            "_model_module_version": "1.5.0",
            "_model_name": "FloatProgressModel",
            "_view_count": null,
            "_view_module": "@jupyter-widgets/controls",
            "_view_module_version": "1.5.0",
            "_view_name": "ProgressView",
            "bar_style": "success",
            "description": "",
            "description_tooltip": null,
            "layout": "IPY_MODEL_688739916258433d9d0a436df1368e93",
            "max": 456318,
            "min": 0,
            "orientation": "horizontal",
            "style": "IPY_MODEL_33364f1ab649462592f6891cdf8ab66f",
            "value": 456318
          }
        },
        "11bdd69d991c4ac782c69195bcbc570f": {
          "model_module": "@jupyter-widgets/controls",
          "model_name": "HTMLModel",
          "model_module_version": "1.5.0",
          "state": {
            "_dom_classes": [],
            "_model_module": "@jupyter-widgets/controls",
            "_model_module_version": "1.5.0",
            "_model_name": "HTMLModel",
            "_view_count": null,
            "_view_module": "@jupyter-widgets/controls",
            "_view_module_version": "1.5.0",
            "_view_name": "HTMLView",
            "description": "",
            "description_tooltip": null,
            "layout": "IPY_MODEL_b9d9a19acd8a452da51bb6a68b711a1c",
            "placeholder": "​",
            "style": "IPY_MODEL_46186b1f45274603b386cce3541612f2",
            "value": " 456k/456k [00:00&lt;00:00, 725kB/s]"
          }
        },
        "af2b1182b36d4791bfd28e57714acdc5": {
          "model_module": "@jupyter-widgets/base",
          "model_name": "LayoutModel",
          "model_module_version": "1.2.0",
          "state": {
            "_model_module": "@jupyter-widgets/base",
            "_model_module_version": "1.2.0",
            "_model_name": "LayoutModel",
            "_view_count": null,
            "_view_module": "@jupyter-widgets/base",
            "_view_module_version": "1.2.0",
            "_view_name": "LayoutView",
            "align_content": null,
            "align_items": null,
            "align_self": null,
            "border": null,
            "bottom": null,
            "display": null,
            "flex": null,
            "flex_flow": null,
            "grid_area": null,
            "grid_auto_columns": null,
            "grid_auto_flow": null,
            "grid_auto_rows": null,
            "grid_column": null,
            "grid_gap": null,
            "grid_row": null,
            "grid_template_areas": null,
            "grid_template_columns": null,
            "grid_template_rows": null,
            "height": null,
            "justify_content": null,
            "justify_items": null,
            "left": null,
            "margin": null,
            "max_height": null,
            "max_width": null,
            "min_height": null,
            "min_width": null,
            "object_fit": null,
            "object_position": null,
            "order": null,
            "overflow": null,
            "overflow_x": null,
            "overflow_y": null,
            "padding": null,
            "right": null,
            "top": null,
            "visibility": null,
            "width": null
          }
        },
        "802e283675194427abd9c7dc6888b2db": {
          "model_module": "@jupyter-widgets/base",
          "model_name": "LayoutModel",
          "model_module_version": "1.2.0",
          "state": {
            "_model_module": "@jupyter-widgets/base",
            "_model_module_version": "1.2.0",
            "_model_name": "LayoutModel",
            "_view_count": null,
            "_view_module": "@jupyter-widgets/base",
            "_view_module_version": "1.2.0",
            "_view_name": "LayoutView",
            "align_content": null,
            "align_items": null,
            "align_self": null,
            "border": null,
            "bottom": null,
            "display": null,
            "flex": null,
            "flex_flow": null,
            "grid_area": null,
            "grid_auto_columns": null,
            "grid_auto_flow": null,
            "grid_auto_rows": null,
            "grid_column": null,
            "grid_gap": null,
            "grid_row": null,
            "grid_template_areas": null,
            "grid_template_columns": null,
            "grid_template_rows": null,
            "height": null,
            "justify_content": null,
            "justify_items": null,
            "left": null,
            "margin": null,
            "max_height": null,
            "max_width": null,
            "min_height": null,
            "min_width": null,
            "object_fit": null,
            "object_position": null,
            "order": null,
            "overflow": null,
            "overflow_x": null,
            "overflow_y": null,
            "padding": null,
            "right": null,
            "top": null,
            "visibility": null,
            "width": null
          }
        },
        "af614d3d72c64a9890ce4b785c4ce489": {
          "model_module": "@jupyter-widgets/controls",
          "model_name": "DescriptionStyleModel",
          "model_module_version": "1.5.0",
          "state": {
            "_model_module": "@jupyter-widgets/controls",
            "_model_module_version": "1.5.0",
            "_model_name": "DescriptionStyleModel",
            "_view_count": null,
            "_view_module": "@jupyter-widgets/base",
            "_view_module_version": "1.2.0",
            "_view_name": "StyleView",
            "description_width": ""
          }
        },
        "688739916258433d9d0a436df1368e93": {
          "model_module": "@jupyter-widgets/base",
          "model_name": "LayoutModel",
          "model_module_version": "1.2.0",
          "state": {
            "_model_module": "@jupyter-widgets/base",
            "_model_module_version": "1.2.0",
            "_model_name": "LayoutModel",
            "_view_count": null,
            "_view_module": "@jupyter-widgets/base",
            "_view_module_version": "1.2.0",
            "_view_name": "LayoutView",
            "align_content": null,
            "align_items": null,
            "align_self": null,
            "border": null,
            "bottom": null,
            "display": null,
            "flex": null,
            "flex_flow": null,
            "grid_area": null,
            "grid_auto_columns": null,
            "grid_auto_flow": null,
            "grid_auto_rows": null,
            "grid_column": null,
            "grid_gap": null,
            "grid_row": null,
            "grid_template_areas": null,
            "grid_template_columns": null,
            "grid_template_rows": null,
            "height": null,
            "justify_content": null,
            "justify_items": null,
            "left": null,
            "margin": null,
            "max_height": null,
            "max_width": null,
            "min_height": null,
            "min_width": null,
            "object_fit": null,
            "object_position": null,
            "order": null,
            "overflow": null,
            "overflow_x": null,
            "overflow_y": null,
            "padding": null,
            "right": null,
            "top": null,
            "visibility": null,
            "width": null
          }
        },
        "33364f1ab649462592f6891cdf8ab66f": {
          "model_module": "@jupyter-widgets/controls",
          "model_name": "ProgressStyleModel",
          "model_module_version": "1.5.0",
          "state": {
            "_model_module": "@jupyter-widgets/controls",
            "_model_module_version": "1.5.0",
            "_model_name": "ProgressStyleModel",
            "_view_count": null,
            "_view_module": "@jupyter-widgets/base",
            "_view_module_version": "1.2.0",
            "_view_name": "StyleView",
            "bar_color": null,
            "description_width": ""
          }
        },
        "b9d9a19acd8a452da51bb6a68b711a1c": {
          "model_module": "@jupyter-widgets/base",
          "model_name": "LayoutModel",
          "model_module_version": "1.2.0",
          "state": {
            "_model_module": "@jupyter-widgets/base",
            "_model_module_version": "1.2.0",
            "_model_name": "LayoutModel",
            "_view_count": null,
            "_view_module": "@jupyter-widgets/base",
            "_view_module_version": "1.2.0",
            "_view_name": "LayoutView",
            "align_content": null,
            "align_items": null,
            "align_self": null,
            "border": null,
            "bottom": null,
            "display": null,
            "flex": null,
            "flex_flow": null,
            "grid_area": null,
            "grid_auto_columns": null,
            "grid_auto_flow": null,
            "grid_auto_rows": null,
            "grid_column": null,
            "grid_gap": null,
            "grid_row": null,
            "grid_template_areas": null,
            "grid_template_columns": null,
            "grid_template_rows": null,
            "height": null,
            "justify_content": null,
            "justify_items": null,
            "left": null,
            "margin": null,
            "max_height": null,
            "max_width": null,
            "min_height": null,
            "min_width": null,
            "object_fit": null,
            "object_position": null,
            "order": null,
            "overflow": null,
            "overflow_x": null,
            "overflow_y": null,
            "padding": null,
            "right": null,
            "top": null,
            "visibility": null,
            "width": null
          }
        },
        "46186b1f45274603b386cce3541612f2": {
          "model_module": "@jupyter-widgets/controls",
          "model_name": "DescriptionStyleModel",
          "model_module_version": "1.5.0",
          "state": {
            "_model_module": "@jupyter-widgets/controls",
            "_model_module_version": "1.5.0",
            "_model_name": "DescriptionStyleModel",
            "_view_count": null,
            "_view_module": "@jupyter-widgets/base",
            "_view_module_version": "1.2.0",
            "_view_name": "StyleView",
            "description_width": ""
          }
        },
        "6b06adf41aba4423a37570517dcdb6bd": {
          "model_module": "@jupyter-widgets/controls",
          "model_name": "HBoxModel",
          "model_module_version": "1.5.0",
          "state": {
            "_dom_classes": [],
            "_model_module": "@jupyter-widgets/controls",
            "_model_module_version": "1.5.0",
            "_model_name": "HBoxModel",
            "_view_count": null,
            "_view_module": "@jupyter-widgets/controls",
            "_view_module_version": "1.5.0",
            "_view_name": "HBoxView",
            "box_style": "",
            "children": [
              "IPY_MODEL_fc139ce544ae45a9a05f57198196daea",
              "IPY_MODEL_82257aaa39cb4e379a5dab417b9c813b",
              "IPY_MODEL_250651725b5e439ca46d0e28076c68b9"
            ],
            "layout": "IPY_MODEL_e0a641d4edcb40e7bcebc4207be613d3"
          }
        },
        "fc139ce544ae45a9a05f57198196daea": {
          "model_module": "@jupyter-widgets/controls",
          "model_name": "HTMLModel",
          "model_module_version": "1.5.0",
          "state": {
            "_dom_classes": [],
            "_model_module": "@jupyter-widgets/controls",
            "_model_module_version": "1.5.0",
            "_model_name": "HTMLModel",
            "_view_count": null,
            "_view_module": "@jupyter-widgets/controls",
            "_view_module_version": "1.5.0",
            "_view_name": "HTMLView",
            "description": "",
            "description_tooltip": null,
            "layout": "IPY_MODEL_787b7d92183b4c3badec382fe3ad9d2d",
            "placeholder": "​",
            "style": "IPY_MODEL_4208afa9260241ac8d631359802212ca",
            "value": "Downloading (…)/main/tokenizer.json: 100%"
          }
        },
        "82257aaa39cb4e379a5dab417b9c813b": {
          "model_module": "@jupyter-widgets/controls",
          "model_name": "FloatProgressModel",
          "model_module_version": "1.5.0",
          "state": {
            "_dom_classes": [],
            "_model_module": "@jupyter-widgets/controls",
            "_model_module_version": "1.5.0",
            "_model_name": "FloatProgressModel",
            "_view_count": null,
            "_view_module": "@jupyter-widgets/controls",
            "_view_module_version": "1.5.0",
            "_view_name": "ProgressView",
            "bar_style": "success",
            "description": "",
            "description_tooltip": null,
            "layout": "IPY_MODEL_d00cee4a4514446d83d1f2492e44965e",
            "max": 1355256,
            "min": 0,
            "orientation": "horizontal",
            "style": "IPY_MODEL_aa53a5e2c79c40b29a6c863aa8b5fe60",
            "value": 1355256
          }
        },
        "250651725b5e439ca46d0e28076c68b9": {
          "model_module": "@jupyter-widgets/controls",
          "model_name": "HTMLModel",
          "model_module_version": "1.5.0",
          "state": {
            "_dom_classes": [],
            "_model_module": "@jupyter-widgets/controls",
            "_model_module_version": "1.5.0",
            "_model_name": "HTMLModel",
            "_view_count": null,
            "_view_module": "@jupyter-widgets/controls",
            "_view_module_version": "1.5.0",
            "_view_name": "HTMLView",
            "description": "",
            "description_tooltip": null,
            "layout": "IPY_MODEL_834fe425b14945bfa88f2ddf0f116dd6",
            "placeholder": "​",
            "style": "IPY_MODEL_1f6686c229a24dd79687c258ecb878a7",
            "value": " 1.36M/1.36M [00:01&lt;00:00, 1.31MB/s]"
          }
        },
        "e0a641d4edcb40e7bcebc4207be613d3": {
          "model_module": "@jupyter-widgets/base",
          "model_name": "LayoutModel",
          "model_module_version": "1.2.0",
          "state": {
            "_model_module": "@jupyter-widgets/base",
            "_model_module_version": "1.2.0",
            "_model_name": "LayoutModel",
            "_view_count": null,
            "_view_module": "@jupyter-widgets/base",
            "_view_module_version": "1.2.0",
            "_view_name": "LayoutView",
            "align_content": null,
            "align_items": null,
            "align_self": null,
            "border": null,
            "bottom": null,
            "display": null,
            "flex": null,
            "flex_flow": null,
            "grid_area": null,
            "grid_auto_columns": null,
            "grid_auto_flow": null,
            "grid_auto_rows": null,
            "grid_column": null,
            "grid_gap": null,
            "grid_row": null,
            "grid_template_areas": null,
            "grid_template_columns": null,
            "grid_template_rows": null,
            "height": null,
            "justify_content": null,
            "justify_items": null,
            "left": null,
            "margin": null,
            "max_height": null,
            "max_width": null,
            "min_height": null,
            "min_width": null,
            "object_fit": null,
            "object_position": null,
            "order": null,
            "overflow": null,
            "overflow_x": null,
            "overflow_y": null,
            "padding": null,
            "right": null,
            "top": null,
            "visibility": null,
            "width": null
          }
        },
        "787b7d92183b4c3badec382fe3ad9d2d": {
          "model_module": "@jupyter-widgets/base",
          "model_name": "LayoutModel",
          "model_module_version": "1.2.0",
          "state": {
            "_model_module": "@jupyter-widgets/base",
            "_model_module_version": "1.2.0",
            "_model_name": "LayoutModel",
            "_view_count": null,
            "_view_module": "@jupyter-widgets/base",
            "_view_module_version": "1.2.0",
            "_view_name": "LayoutView",
            "align_content": null,
            "align_items": null,
            "align_self": null,
            "border": null,
            "bottom": null,
            "display": null,
            "flex": null,
            "flex_flow": null,
            "grid_area": null,
            "grid_auto_columns": null,
            "grid_auto_flow": null,
            "grid_auto_rows": null,
            "grid_column": null,
            "grid_gap": null,
            "grid_row": null,
            "grid_template_areas": null,
            "grid_template_columns": null,
            "grid_template_rows": null,
            "height": null,
            "justify_content": null,
            "justify_items": null,
            "left": null,
            "margin": null,
            "max_height": null,
            "max_width": null,
            "min_height": null,
            "min_width": null,
            "object_fit": null,
            "object_position": null,
            "order": null,
            "overflow": null,
            "overflow_x": null,
            "overflow_y": null,
            "padding": null,
            "right": null,
            "top": null,
            "visibility": null,
            "width": null
          }
        },
        "4208afa9260241ac8d631359802212ca": {
          "model_module": "@jupyter-widgets/controls",
          "model_name": "DescriptionStyleModel",
          "model_module_version": "1.5.0",
          "state": {
            "_model_module": "@jupyter-widgets/controls",
            "_model_module_version": "1.5.0",
            "_model_name": "DescriptionStyleModel",
            "_view_count": null,
            "_view_module": "@jupyter-widgets/base",
            "_view_module_version": "1.2.0",
            "_view_name": "StyleView",
            "description_width": ""
          }
        },
        "d00cee4a4514446d83d1f2492e44965e": {
          "model_module": "@jupyter-widgets/base",
          "model_name": "LayoutModel",
          "model_module_version": "1.2.0",
          "state": {
            "_model_module": "@jupyter-widgets/base",
            "_model_module_version": "1.2.0",
            "_model_name": "LayoutModel",
            "_view_count": null,
            "_view_module": "@jupyter-widgets/base",
            "_view_module_version": "1.2.0",
            "_view_name": "LayoutView",
            "align_content": null,
            "align_items": null,
            "align_self": null,
            "border": null,
            "bottom": null,
            "display": null,
            "flex": null,
            "flex_flow": null,
            "grid_area": null,
            "grid_auto_columns": null,
            "grid_auto_flow": null,
            "grid_auto_rows": null,
            "grid_column": null,
            "grid_gap": null,
            "grid_row": null,
            "grid_template_areas": null,
            "grid_template_columns": null,
            "grid_template_rows": null,
            "height": null,
            "justify_content": null,
            "justify_items": null,
            "left": null,
            "margin": null,
            "max_height": null,
            "max_width": null,
            "min_height": null,
            "min_width": null,
            "object_fit": null,
            "object_position": null,
            "order": null,
            "overflow": null,
            "overflow_x": null,
            "overflow_y": null,
            "padding": null,
            "right": null,
            "top": null,
            "visibility": null,
            "width": null
          }
        },
        "aa53a5e2c79c40b29a6c863aa8b5fe60": {
          "model_module": "@jupyter-widgets/controls",
          "model_name": "ProgressStyleModel",
          "model_module_version": "1.5.0",
          "state": {
            "_model_module": "@jupyter-widgets/controls",
            "_model_module_version": "1.5.0",
            "_model_name": "ProgressStyleModel",
            "_view_count": null,
            "_view_module": "@jupyter-widgets/base",
            "_view_module_version": "1.2.0",
            "_view_name": "StyleView",
            "bar_color": null,
            "description_width": ""
          }
        },
        "834fe425b14945bfa88f2ddf0f116dd6": {
          "model_module": "@jupyter-widgets/base",
          "model_name": "LayoutModel",
          "model_module_version": "1.2.0",
          "state": {
            "_model_module": "@jupyter-widgets/base",
            "_model_module_version": "1.2.0",
            "_model_name": "LayoutModel",
            "_view_count": null,
            "_view_module": "@jupyter-widgets/base",
            "_view_module_version": "1.2.0",
            "_view_name": "LayoutView",
            "align_content": null,
            "align_items": null,
            "align_self": null,
            "border": null,
            "bottom": null,
            "display": null,
            "flex": null,
            "flex_flow": null,
            "grid_area": null,
            "grid_auto_columns": null,
            "grid_auto_flow": null,
            "grid_auto_rows": null,
            "grid_column": null,
            "grid_gap": null,
            "grid_row": null,
            "grid_template_areas": null,
            "grid_template_columns": null,
            "grid_template_rows": null,
            "height": null,
            "justify_content": null,
            "justify_items": null,
            "left": null,
            "margin": null,
            "max_height": null,
            "max_width": null,
            "min_height": null,
            "min_width": null,
            "object_fit": null,
            "object_position": null,
            "order": null,
            "overflow": null,
            "overflow_x": null,
            "overflow_y": null,
            "padding": null,
            "right": null,
            "top": null,
            "visibility": null,
            "width": null
          }
        },
        "1f6686c229a24dd79687c258ecb878a7": {
          "model_module": "@jupyter-widgets/controls",
          "model_name": "DescriptionStyleModel",
          "model_module_version": "1.5.0",
          "state": {
            "_model_module": "@jupyter-widgets/controls",
            "_model_module_version": "1.5.0",
            "_model_name": "DescriptionStyleModel",
            "_view_count": null,
            "_view_module": "@jupyter-widgets/base",
            "_view_module_version": "1.2.0",
            "_view_name": "StyleView",
            "description_width": ""
          }
        },
        "fffabb2a864c42ff9ea4bef555ab6d8c": {
          "model_module": "@jupyter-widgets/controls",
          "model_name": "HBoxModel",
          "model_module_version": "1.5.0",
          "state": {
            "_dom_classes": [],
            "_model_module": "@jupyter-widgets/controls",
            "_model_module_version": "1.5.0",
            "_model_name": "HBoxModel",
            "_view_count": null,
            "_view_module": "@jupyter-widgets/controls",
            "_view_module_version": "1.5.0",
            "_view_name": "HBoxView",
            "box_style": "",
            "children": [
              "IPY_MODEL_8e590b13a4e44814b318bad16de55df5",
              "IPY_MODEL_d43148692da2469489601c53dc7865db",
              "IPY_MODEL_bc90f89777ad45bd89ce6b6c8556a0b4"
            ],
            "layout": "IPY_MODEL_8d2e48f3277f45ad89bd90a30a4a3a0c"
          }
        },
        "8e590b13a4e44814b318bad16de55df5": {
          "model_module": "@jupyter-widgets/controls",
          "model_name": "HTMLModel",
          "model_module_version": "1.5.0",
          "state": {
            "_dom_classes": [],
            "_model_module": "@jupyter-widgets/controls",
            "_model_module_version": "1.5.0",
            "_model_name": "HTMLModel",
            "_view_count": null,
            "_view_module": "@jupyter-widgets/controls",
            "_view_module_version": "1.5.0",
            "_view_name": "HTMLView",
            "description": "",
            "description_tooltip": null,
            "layout": "IPY_MODEL_e9441d82cacb414288396bb258df8003",
            "placeholder": "​",
            "style": "IPY_MODEL_a56eca38e09f4f829f7d1cc2632a3b1e",
            "value": "Downloading model.safetensors: 100%"
          }
        },
        "d43148692da2469489601c53dc7865db": {
          "model_module": "@jupyter-widgets/controls",
          "model_name": "FloatProgressModel",
          "model_module_version": "1.5.0",
          "state": {
            "_dom_classes": [],
            "_model_module": "@jupyter-widgets/controls",
            "_model_module_version": "1.5.0",
            "_model_name": "FloatProgressModel",
            "_view_count": null,
            "_view_module": "@jupyter-widgets/controls",
            "_view_module_version": "1.5.0",
            "_view_name": "ProgressView",
            "bar_style": "success",
            "description": "",
            "description_tooltip": null,
            "layout": "IPY_MODEL_06c7cb7c9fdf47b0873abe212f1b0c4e",
            "max": 3247159078,
            "min": 0,
            "orientation": "horizontal",
            "style": "IPY_MODEL_97bbf02145834297bd9dc8dce04a5fd1",
            "value": 3247159078
          }
        },
        "bc90f89777ad45bd89ce6b6c8556a0b4": {
          "model_module": "@jupyter-widgets/controls",
          "model_name": "HTMLModel",
          "model_module_version": "1.5.0",
          "state": {
            "_dom_classes": [],
            "_model_module": "@jupyter-widgets/controls",
            "_model_module_version": "1.5.0",
            "_model_name": "HTMLModel",
            "_view_count": null,
            "_view_module": "@jupyter-widgets/controls",
            "_view_module_version": "1.5.0",
            "_view_name": "HTMLView",
            "description": "",
            "description_tooltip": null,
            "layout": "IPY_MODEL_7fe0fad1cecc4b6fb6bd098d616dd09c",
            "placeholder": "​",
            "style": "IPY_MODEL_14a9a483a9c24573b35d74b0f26c0069",
            "value": " 3.25G/3.25G [03:13&lt;00:00, 18.7MB/s]"
          }
        },
        "8d2e48f3277f45ad89bd90a30a4a3a0c": {
          "model_module": "@jupyter-widgets/base",
          "model_name": "LayoutModel",
          "model_module_version": "1.2.0",
          "state": {
            "_model_module": "@jupyter-widgets/base",
            "_model_module_version": "1.2.0",
            "_model_name": "LayoutModel",
            "_view_count": null,
            "_view_module": "@jupyter-widgets/base",
            "_view_module_version": "1.2.0",
            "_view_name": "LayoutView",
            "align_content": null,
            "align_items": null,
            "align_self": null,
            "border": null,
            "bottom": null,
            "display": null,
            "flex": null,
            "flex_flow": null,
            "grid_area": null,
            "grid_auto_columns": null,
            "grid_auto_flow": null,
            "grid_auto_rows": null,
            "grid_column": null,
            "grid_gap": null,
            "grid_row": null,
            "grid_template_areas": null,
            "grid_template_columns": null,
            "grid_template_rows": null,
            "height": null,
            "justify_content": null,
            "justify_items": null,
            "left": null,
            "margin": null,
            "max_height": null,
            "max_width": null,
            "min_height": null,
            "min_width": null,
            "object_fit": null,
            "object_position": null,
            "order": null,
            "overflow": null,
            "overflow_x": null,
            "overflow_y": null,
            "padding": null,
            "right": null,
            "top": null,
            "visibility": null,
            "width": null
          }
        },
        "e9441d82cacb414288396bb258df8003": {
          "model_module": "@jupyter-widgets/base",
          "model_name": "LayoutModel",
          "model_module_version": "1.2.0",
          "state": {
            "_model_module": "@jupyter-widgets/base",
            "_model_module_version": "1.2.0",
            "_model_name": "LayoutModel",
            "_view_count": null,
            "_view_module": "@jupyter-widgets/base",
            "_view_module_version": "1.2.0",
            "_view_name": "LayoutView",
            "align_content": null,
            "align_items": null,
            "align_self": null,
            "border": null,
            "bottom": null,
            "display": null,
            "flex": null,
            "flex_flow": null,
            "grid_area": null,
            "grid_auto_columns": null,
            "grid_auto_flow": null,
            "grid_auto_rows": null,
            "grid_column": null,
            "grid_gap": null,
            "grid_row": null,
            "grid_template_areas": null,
            "grid_template_columns": null,
            "grid_template_rows": null,
            "height": null,
            "justify_content": null,
            "justify_items": null,
            "left": null,
            "margin": null,
            "max_height": null,
            "max_width": null,
            "min_height": null,
            "min_width": null,
            "object_fit": null,
            "object_position": null,
            "order": null,
            "overflow": null,
            "overflow_x": null,
            "overflow_y": null,
            "padding": null,
            "right": null,
            "top": null,
            "visibility": null,
            "width": null
          }
        },
        "a56eca38e09f4f829f7d1cc2632a3b1e": {
          "model_module": "@jupyter-widgets/controls",
          "model_name": "DescriptionStyleModel",
          "model_module_version": "1.5.0",
          "state": {
            "_model_module": "@jupyter-widgets/controls",
            "_model_module_version": "1.5.0",
            "_model_name": "DescriptionStyleModel",
            "_view_count": null,
            "_view_module": "@jupyter-widgets/base",
            "_view_module_version": "1.2.0",
            "_view_name": "StyleView",
            "description_width": ""
          }
        },
        "06c7cb7c9fdf47b0873abe212f1b0c4e": {
          "model_module": "@jupyter-widgets/base",
          "model_name": "LayoutModel",
          "model_module_version": "1.2.0",
          "state": {
            "_model_module": "@jupyter-widgets/base",
            "_model_module_version": "1.2.0",
            "_model_name": "LayoutModel",
            "_view_count": null,
            "_view_module": "@jupyter-widgets/base",
            "_view_module_version": "1.2.0",
            "_view_name": "LayoutView",
            "align_content": null,
            "align_items": null,
            "align_self": null,
            "border": null,
            "bottom": null,
            "display": null,
            "flex": null,
            "flex_flow": null,
            "grid_area": null,
            "grid_auto_columns": null,
            "grid_auto_flow": null,
            "grid_auto_rows": null,
            "grid_column": null,
            "grid_gap": null,
            "grid_row": null,
            "grid_template_areas": null,
            "grid_template_columns": null,
            "grid_template_rows": null,
            "height": null,
            "justify_content": null,
            "justify_items": null,
            "left": null,
            "margin": null,
            "max_height": null,
            "max_width": null,
            "min_height": null,
            "min_width": null,
            "object_fit": null,
            "object_position": null,
            "order": null,
            "overflow": null,
            "overflow_x": null,
            "overflow_y": null,
            "padding": null,
            "right": null,
            "top": null,
            "visibility": null,
            "width": null
          }
        },
        "97bbf02145834297bd9dc8dce04a5fd1": {
          "model_module": "@jupyter-widgets/controls",
          "model_name": "ProgressStyleModel",
          "model_module_version": "1.5.0",
          "state": {
            "_model_module": "@jupyter-widgets/controls",
            "_model_module_version": "1.5.0",
            "_model_name": "ProgressStyleModel",
            "_view_count": null,
            "_view_module": "@jupyter-widgets/base",
            "_view_module_version": "1.2.0",
            "_view_name": "StyleView",
            "bar_color": null,
            "description_width": ""
          }
        },
        "7fe0fad1cecc4b6fb6bd098d616dd09c": {
          "model_module": "@jupyter-widgets/base",
          "model_name": "LayoutModel",
          "model_module_version": "1.2.0",
          "state": {
            "_model_module": "@jupyter-widgets/base",
            "_model_module_version": "1.2.0",
            "_model_name": "LayoutModel",
            "_view_count": null,
            "_view_module": "@jupyter-widgets/base",
            "_view_module_version": "1.2.0",
            "_view_name": "LayoutView",
            "align_content": null,
            "align_items": null,
            "align_self": null,
            "border": null,
            "bottom": null,
            "display": null,
            "flex": null,
            "flex_flow": null,
            "grid_area": null,
            "grid_auto_columns": null,
            "grid_auto_flow": null,
            "grid_auto_rows": null,
            "grid_column": null,
            "grid_gap": null,
            "grid_row": null,
            "grid_template_areas": null,
            "grid_template_columns": null,
            "grid_template_rows": null,
            "height": null,
            "justify_content": null,
            "justify_items": null,
            "left": null,
            "margin": null,
            "max_height": null,
            "max_width": null,
            "min_height": null,
            "min_width": null,
            "object_fit": null,
            "object_position": null,
            "order": null,
            "overflow": null,
            "overflow_x": null,
            "overflow_y": null,
            "padding": null,
            "right": null,
            "top": null,
            "visibility": null,
            "width": null
          }
        },
        "14a9a483a9c24573b35d74b0f26c0069": {
          "model_module": "@jupyter-widgets/controls",
          "model_name": "DescriptionStyleModel",
          "model_module_version": "1.5.0",
          "state": {
            "_model_module": "@jupyter-widgets/controls",
            "_model_module_version": "1.5.0",
            "_model_name": "DescriptionStyleModel",
            "_view_count": null,
            "_view_module": "@jupyter-widgets/base",
            "_view_module_version": "1.2.0",
            "_view_name": "StyleView",
            "description_width": ""
          }
        },
        "d0b15aa027454a548d103573218b0e57": {
          "model_module": "@jupyter-widgets/controls",
          "model_name": "HBoxModel",
          "model_module_version": "1.5.0",
          "state": {
            "_dom_classes": [],
            "_model_module": "@jupyter-widgets/controls",
            "_model_module_version": "1.5.0",
            "_model_name": "HBoxModel",
            "_view_count": null,
            "_view_module": "@jupyter-widgets/controls",
            "_view_module_version": "1.5.0",
            "_view_name": "HBoxView",
            "box_style": "",
            "children": [
              "IPY_MODEL_fd43f0d2725d41038e1a666c97bf2b00",
              "IPY_MODEL_370b50d52ea845f59bfecfbabb560b2b",
              "IPY_MODEL_6b95d2e1a03746e484af3ff607326ac2"
            ],
            "layout": "IPY_MODEL_d9a358f1d9044ceda33166fdfcc86454"
          }
        },
        "fd43f0d2725d41038e1a666c97bf2b00": {
          "model_module": "@jupyter-widgets/controls",
          "model_name": "HTMLModel",
          "model_module_version": "1.5.0",
          "state": {
            "_dom_classes": [],
            "_model_module": "@jupyter-widgets/controls",
            "_model_module_version": "1.5.0",
            "_model_name": "HTMLModel",
            "_view_count": null,
            "_view_module": "@jupyter-widgets/controls",
            "_view_module_version": "1.5.0",
            "_view_name": "HTMLView",
            "description": "",
            "description_tooltip": null,
            "layout": "IPY_MODEL_8aa00b6deab446afbbf14560ba03c594",
            "placeholder": "​",
            "style": "IPY_MODEL_408fff667b564dd3a54e84948df70932",
            "value": "Downloading (…)neration_config.json: 100%"
          }
        },
        "370b50d52ea845f59bfecfbabb560b2b": {
          "model_module": "@jupyter-widgets/controls",
          "model_name": "FloatProgressModel",
          "model_module_version": "1.5.0",
          "state": {
            "_dom_classes": [],
            "_model_module": "@jupyter-widgets/controls",
            "_model_module_version": "1.5.0",
            "_model_name": "FloatProgressModel",
            "_view_count": null,
            "_view_module": "@jupyter-widgets/controls",
            "_view_module_version": "1.5.0",
            "_view_name": "ProgressView",
            "bar_style": "success",
            "description": "",
            "description_tooltip": null,
            "layout": "IPY_MODEL_2e06c67c1b97458dba683ea65c1b0fa8",
            "max": 124,
            "min": 0,
            "orientation": "horizontal",
            "style": "IPY_MODEL_04b3cf79dcd043c0972eb72f8752a40a",
            "value": 124
          }
        },
        "6b95d2e1a03746e484af3ff607326ac2": {
          "model_module": "@jupyter-widgets/controls",
          "model_name": "HTMLModel",
          "model_module_version": "1.5.0",
          "state": {
            "_dom_classes": [],
            "_model_module": "@jupyter-widgets/controls",
            "_model_module_version": "1.5.0",
            "_model_name": "HTMLModel",
            "_view_count": null,
            "_view_module": "@jupyter-widgets/controls",
            "_view_module_version": "1.5.0",
            "_view_name": "HTMLView",
            "description": "",
            "description_tooltip": null,
            "layout": "IPY_MODEL_992b82db03c8435086afc23e53b48abf",
            "placeholder": "​",
            "style": "IPY_MODEL_91b521ecb9d24228990e4de7077c1332",
            "value": " 124/124 [00:00&lt;00:00, 9.20kB/s]"
          }
        },
        "d9a358f1d9044ceda33166fdfcc86454": {
          "model_module": "@jupyter-widgets/base",
          "model_name": "LayoutModel",
          "model_module_version": "1.2.0",
          "state": {
            "_model_module": "@jupyter-widgets/base",
            "_model_module_version": "1.2.0",
            "_model_name": "LayoutModel",
            "_view_count": null,
            "_view_module": "@jupyter-widgets/base",
            "_view_module_version": "1.2.0",
            "_view_name": "LayoutView",
            "align_content": null,
            "align_items": null,
            "align_self": null,
            "border": null,
            "bottom": null,
            "display": null,
            "flex": null,
            "flex_flow": null,
            "grid_area": null,
            "grid_auto_columns": null,
            "grid_auto_flow": null,
            "grid_auto_rows": null,
            "grid_column": null,
            "grid_gap": null,
            "grid_row": null,
            "grid_template_areas": null,
            "grid_template_columns": null,
            "grid_template_rows": null,
            "height": null,
            "justify_content": null,
            "justify_items": null,
            "left": null,
            "margin": null,
            "max_height": null,
            "max_width": null,
            "min_height": null,
            "min_width": null,
            "object_fit": null,
            "object_position": null,
            "order": null,
            "overflow": null,
            "overflow_x": null,
            "overflow_y": null,
            "padding": null,
            "right": null,
            "top": null,
            "visibility": null,
            "width": null
          }
        },
        "8aa00b6deab446afbbf14560ba03c594": {
          "model_module": "@jupyter-widgets/base",
          "model_name": "LayoutModel",
          "model_module_version": "1.2.0",
          "state": {
            "_model_module": "@jupyter-widgets/base",
            "_model_module_version": "1.2.0",
            "_model_name": "LayoutModel",
            "_view_count": null,
            "_view_module": "@jupyter-widgets/base",
            "_view_module_version": "1.2.0",
            "_view_name": "LayoutView",
            "align_content": null,
            "align_items": null,
            "align_self": null,
            "border": null,
            "bottom": null,
            "display": null,
            "flex": null,
            "flex_flow": null,
            "grid_area": null,
            "grid_auto_columns": null,
            "grid_auto_flow": null,
            "grid_auto_rows": null,
            "grid_column": null,
            "grid_gap": null,
            "grid_row": null,
            "grid_template_areas": null,
            "grid_template_columns": null,
            "grid_template_rows": null,
            "height": null,
            "justify_content": null,
            "justify_items": null,
            "left": null,
            "margin": null,
            "max_height": null,
            "max_width": null,
            "min_height": null,
            "min_width": null,
            "object_fit": null,
            "object_position": null,
            "order": null,
            "overflow": null,
            "overflow_x": null,
            "overflow_y": null,
            "padding": null,
            "right": null,
            "top": null,
            "visibility": null,
            "width": null
          }
        },
        "408fff667b564dd3a54e84948df70932": {
          "model_module": "@jupyter-widgets/controls",
          "model_name": "DescriptionStyleModel",
          "model_module_version": "1.5.0",
          "state": {
            "_model_module": "@jupyter-widgets/controls",
            "_model_module_version": "1.5.0",
            "_model_name": "DescriptionStyleModel",
            "_view_count": null,
            "_view_module": "@jupyter-widgets/base",
            "_view_module_version": "1.2.0",
            "_view_name": "StyleView",
            "description_width": ""
          }
        },
        "2e06c67c1b97458dba683ea65c1b0fa8": {
          "model_module": "@jupyter-widgets/base",
          "model_name": "LayoutModel",
          "model_module_version": "1.2.0",
          "state": {
            "_model_module": "@jupyter-widgets/base",
            "_model_module_version": "1.2.0",
            "_model_name": "LayoutModel",
            "_view_count": null,
            "_view_module": "@jupyter-widgets/base",
            "_view_module_version": "1.2.0",
            "_view_name": "LayoutView",
            "align_content": null,
            "align_items": null,
            "align_self": null,
            "border": null,
            "bottom": null,
            "display": null,
            "flex": null,
            "flex_flow": null,
            "grid_area": null,
            "grid_auto_columns": null,
            "grid_auto_flow": null,
            "grid_auto_rows": null,
            "grid_column": null,
            "grid_gap": null,
            "grid_row": null,
            "grid_template_areas": null,
            "grid_template_columns": null,
            "grid_template_rows": null,
            "height": null,
            "justify_content": null,
            "justify_items": null,
            "left": null,
            "margin": null,
            "max_height": null,
            "max_width": null,
            "min_height": null,
            "min_width": null,
            "object_fit": null,
            "object_position": null,
            "order": null,
            "overflow": null,
            "overflow_x": null,
            "overflow_y": null,
            "padding": null,
            "right": null,
            "top": null,
            "visibility": null,
            "width": null
          }
        },
        "04b3cf79dcd043c0972eb72f8752a40a": {
          "model_module": "@jupyter-widgets/controls",
          "model_name": "ProgressStyleModel",
          "model_module_version": "1.5.0",
          "state": {
            "_model_module": "@jupyter-widgets/controls",
            "_model_module_version": "1.5.0",
            "_model_name": "ProgressStyleModel",
            "_view_count": null,
            "_view_module": "@jupyter-widgets/base",
            "_view_module_version": "1.2.0",
            "_view_name": "StyleView",
            "bar_color": null,
            "description_width": ""
          }
        },
        "992b82db03c8435086afc23e53b48abf": {
          "model_module": "@jupyter-widgets/base",
          "model_name": "LayoutModel",
          "model_module_version": "1.2.0",
          "state": {
            "_model_module": "@jupyter-widgets/base",
            "_model_module_version": "1.2.0",
            "_model_name": "LayoutModel",
            "_view_count": null,
            "_view_module": "@jupyter-widgets/base",
            "_view_module_version": "1.2.0",
            "_view_name": "LayoutView",
            "align_content": null,
            "align_items": null,
            "align_self": null,
            "border": null,
            "bottom": null,
            "display": null,
            "flex": null,
            "flex_flow": null,
            "grid_area": null,
            "grid_auto_columns": null,
            "grid_auto_flow": null,
            "grid_auto_rows": null,
            "grid_column": null,
            "grid_gap": null,
            "grid_row": null,
            "grid_template_areas": null,
            "grid_template_columns": null,
            "grid_template_rows": null,
            "height": null,
            "justify_content": null,
            "justify_items": null,
            "left": null,
            "margin": null,
            "max_height": null,
            "max_width": null,
            "min_height": null,
            "min_width": null,
            "object_fit": null,
            "object_position": null,
            "order": null,
            "overflow": null,
            "overflow_x": null,
            "overflow_y": null,
            "padding": null,
            "right": null,
            "top": null,
            "visibility": null,
            "width": null
          }
        },
        "91b521ecb9d24228990e4de7077c1332": {
          "model_module": "@jupyter-widgets/controls",
          "model_name": "DescriptionStyleModel",
          "model_module_version": "1.5.0",
          "state": {
            "_model_module": "@jupyter-widgets/controls",
            "_model_module_version": "1.5.0",
            "_model_name": "DescriptionStyleModel",
            "_view_count": null,
            "_view_module": "@jupyter-widgets/base",
            "_view_module_version": "1.2.0",
            "_view_name": "StyleView",
            "description_width": ""
          }
        },
        "f818c0591c0f4008825f27b8854eef4f": {
          "model_module": "@jupyter-widgets/controls",
          "model_name": "HBoxModel",
          "model_module_version": "1.5.0",
          "state": {
            "_dom_classes": [],
            "_model_module": "@jupyter-widgets/controls",
            "_model_module_version": "1.5.0",
            "_model_name": "HBoxModel",
            "_view_count": null,
            "_view_module": "@jupyter-widgets/controls",
            "_view_module_version": "1.5.0",
            "_view_name": "HBoxView",
            "box_style": "",
            "children": [
              "IPY_MODEL_9c28e3f8329c4c59a0bfc74e2beb42a7",
              "IPY_MODEL_dc633265888d4a71911719f259e74db6",
              "IPY_MODEL_47d35c2cb34747599baeb80a5ba8394c"
            ],
            "layout": "IPY_MODEL_398e8d5f201b4133b379169a30289fdd"
          }
        },
        "9c28e3f8329c4c59a0bfc74e2beb42a7": {
          "model_module": "@jupyter-widgets/controls",
          "model_name": "HTMLModel",
          "model_module_version": "1.5.0",
          "state": {
            "_dom_classes": [],
            "_model_module": "@jupyter-widgets/controls",
            "_model_module_version": "1.5.0",
            "_model_name": "HTMLModel",
            "_view_count": null,
            "_view_module": "@jupyter-widgets/controls",
            "_view_module_version": "1.5.0",
            "_view_name": "HTMLView",
            "description": "",
            "description_tooltip": null,
            "layout": "IPY_MODEL_910d6c0192e8411e8ebc651b81a41789",
            "placeholder": "​",
            "style": "IPY_MODEL_c20957e27af84bed93f00cd70f35d60a",
            "value": "100%"
          }
        },
        "dc633265888d4a71911719f259e74db6": {
          "model_module": "@jupyter-widgets/controls",
          "model_name": "FloatProgressModel",
          "model_module_version": "1.5.0",
          "state": {
            "_dom_classes": [],
            "_model_module": "@jupyter-widgets/controls",
            "_model_module_version": "1.5.0",
            "_model_name": "FloatProgressModel",
            "_view_count": null,
            "_view_module": "@jupyter-widgets/controls",
            "_view_module_version": "1.5.0",
            "_view_name": "ProgressView",
            "bar_style": "success",
            "description": "",
            "description_tooltip": null,
            "layout": "IPY_MODEL_0c7947f1ff06495aac7f77a9e5cb0db8",
            "max": 2,
            "min": 0,
            "orientation": "horizontal",
            "style": "IPY_MODEL_23470d5bfb7840db97516f9567523d64",
            "value": 2
          }
        },
        "47d35c2cb34747599baeb80a5ba8394c": {
          "model_module": "@jupyter-widgets/controls",
          "model_name": "HTMLModel",
          "model_module_version": "1.5.0",
          "state": {
            "_dom_classes": [],
            "_model_module": "@jupyter-widgets/controls",
            "_model_module_version": "1.5.0",
            "_model_name": "HTMLModel",
            "_view_count": null,
            "_view_module": "@jupyter-widgets/controls",
            "_view_module_version": "1.5.0",
            "_view_name": "HTMLView",
            "description": "",
            "description_tooltip": null,
            "layout": "IPY_MODEL_7808bb08fa4f4da7b6b3824dd7a28e99",
            "placeholder": "​",
            "style": "IPY_MODEL_5a007e4a0fce424f911110c8da07f1c2",
            "value": " 2/2 [00:00&lt;00:00, 59.80it/s]"
          }
        },
        "398e8d5f201b4133b379169a30289fdd": {
          "model_module": "@jupyter-widgets/base",
          "model_name": "LayoutModel",
          "model_module_version": "1.2.0",
          "state": {
            "_model_module": "@jupyter-widgets/base",
            "_model_module_version": "1.2.0",
            "_model_name": "LayoutModel",
            "_view_count": null,
            "_view_module": "@jupyter-widgets/base",
            "_view_module_version": "1.2.0",
            "_view_name": "LayoutView",
            "align_content": null,
            "align_items": null,
            "align_self": null,
            "border": null,
            "bottom": null,
            "display": null,
            "flex": null,
            "flex_flow": null,
            "grid_area": null,
            "grid_auto_columns": null,
            "grid_auto_flow": null,
            "grid_auto_rows": null,
            "grid_column": null,
            "grid_gap": null,
            "grid_row": null,
            "grid_template_areas": null,
            "grid_template_columns": null,
            "grid_template_rows": null,
            "height": null,
            "justify_content": null,
            "justify_items": null,
            "left": null,
            "margin": null,
            "max_height": null,
            "max_width": null,
            "min_height": null,
            "min_width": null,
            "object_fit": null,
            "object_position": null,
            "order": null,
            "overflow": null,
            "overflow_x": null,
            "overflow_y": null,
            "padding": null,
            "right": null,
            "top": null,
            "visibility": null,
            "width": null
          }
        },
        "910d6c0192e8411e8ebc651b81a41789": {
          "model_module": "@jupyter-widgets/base",
          "model_name": "LayoutModel",
          "model_module_version": "1.2.0",
          "state": {
            "_model_module": "@jupyter-widgets/base",
            "_model_module_version": "1.2.0",
            "_model_name": "LayoutModel",
            "_view_count": null,
            "_view_module": "@jupyter-widgets/base",
            "_view_module_version": "1.2.0",
            "_view_name": "LayoutView",
            "align_content": null,
            "align_items": null,
            "align_self": null,
            "border": null,
            "bottom": null,
            "display": null,
            "flex": null,
            "flex_flow": null,
            "grid_area": null,
            "grid_auto_columns": null,
            "grid_auto_flow": null,
            "grid_auto_rows": null,
            "grid_column": null,
            "grid_gap": null,
            "grid_row": null,
            "grid_template_areas": null,
            "grid_template_columns": null,
            "grid_template_rows": null,
            "height": null,
            "justify_content": null,
            "justify_items": null,
            "left": null,
            "margin": null,
            "max_height": null,
            "max_width": null,
            "min_height": null,
            "min_width": null,
            "object_fit": null,
            "object_position": null,
            "order": null,
            "overflow": null,
            "overflow_x": null,
            "overflow_y": null,
            "padding": null,
            "right": null,
            "top": null,
            "visibility": null,
            "width": null
          }
        },
        "c20957e27af84bed93f00cd70f35d60a": {
          "model_module": "@jupyter-widgets/controls",
          "model_name": "DescriptionStyleModel",
          "model_module_version": "1.5.0",
          "state": {
            "_model_module": "@jupyter-widgets/controls",
            "_model_module_version": "1.5.0",
            "_model_name": "DescriptionStyleModel",
            "_view_count": null,
            "_view_module": "@jupyter-widgets/base",
            "_view_module_version": "1.2.0",
            "_view_name": "StyleView",
            "description_width": ""
          }
        },
        "0c7947f1ff06495aac7f77a9e5cb0db8": {
          "model_module": "@jupyter-widgets/base",
          "model_name": "LayoutModel",
          "model_module_version": "1.2.0",
          "state": {
            "_model_module": "@jupyter-widgets/base",
            "_model_module_version": "1.2.0",
            "_model_name": "LayoutModel",
            "_view_count": null,
            "_view_module": "@jupyter-widgets/base",
            "_view_module_version": "1.2.0",
            "_view_name": "LayoutView",
            "align_content": null,
            "align_items": null,
            "align_self": null,
            "border": null,
            "bottom": null,
            "display": null,
            "flex": null,
            "flex_flow": null,
            "grid_area": null,
            "grid_auto_columns": null,
            "grid_auto_flow": null,
            "grid_auto_rows": null,
            "grid_column": null,
            "grid_gap": null,
            "grid_row": null,
            "grid_template_areas": null,
            "grid_template_columns": null,
            "grid_template_rows": null,
            "height": null,
            "justify_content": null,
            "justify_items": null,
            "left": null,
            "margin": null,
            "max_height": null,
            "max_width": null,
            "min_height": null,
            "min_width": null,
            "object_fit": null,
            "object_position": null,
            "order": null,
            "overflow": null,
            "overflow_x": null,
            "overflow_y": null,
            "padding": null,
            "right": null,
            "top": null,
            "visibility": null,
            "width": null
          }
        },
        "23470d5bfb7840db97516f9567523d64": {
          "model_module": "@jupyter-widgets/controls",
          "model_name": "ProgressStyleModel",
          "model_module_version": "1.5.0",
          "state": {
            "_model_module": "@jupyter-widgets/controls",
            "_model_module_version": "1.5.0",
            "_model_name": "ProgressStyleModel",
            "_view_count": null,
            "_view_module": "@jupyter-widgets/base",
            "_view_module_version": "1.2.0",
            "_view_name": "StyleView",
            "bar_color": null,
            "description_width": ""
          }
        },
        "7808bb08fa4f4da7b6b3824dd7a28e99": {
          "model_module": "@jupyter-widgets/base",
          "model_name": "LayoutModel",
          "model_module_version": "1.2.0",
          "state": {
            "_model_module": "@jupyter-widgets/base",
            "_model_module_version": "1.2.0",
            "_model_name": "LayoutModel",
            "_view_count": null,
            "_view_module": "@jupyter-widgets/base",
            "_view_module_version": "1.2.0",
            "_view_name": "LayoutView",
            "align_content": null,
            "align_items": null,
            "align_self": null,
            "border": null,
            "bottom": null,
            "display": null,
            "flex": null,
            "flex_flow": null,
            "grid_area": null,
            "grid_auto_columns": null,
            "grid_auto_flow": null,
            "grid_auto_rows": null,
            "grid_column": null,
            "grid_gap": null,
            "grid_row": null,
            "grid_template_areas": null,
            "grid_template_columns": null,
            "grid_template_rows": null,
            "height": null,
            "justify_content": null,
            "justify_items": null,
            "left": null,
            "margin": null,
            "max_height": null,
            "max_width": null,
            "min_height": null,
            "min_width": null,
            "object_fit": null,
            "object_position": null,
            "order": null,
            "overflow": null,
            "overflow_x": null,
            "overflow_y": null,
            "padding": null,
            "right": null,
            "top": null,
            "visibility": null,
            "width": null
          }
        },
        "5a007e4a0fce424f911110c8da07f1c2": {
          "model_module": "@jupyter-widgets/controls",
          "model_name": "DescriptionStyleModel",
          "model_module_version": "1.5.0",
          "state": {
            "_model_module": "@jupyter-widgets/controls",
            "_model_module_version": "1.5.0",
            "_model_name": "DescriptionStyleModel",
            "_view_count": null,
            "_view_module": "@jupyter-widgets/base",
            "_view_module_version": "1.2.0",
            "_view_name": "StyleView",
            "description_width": ""
          }
        }
      }
    }
  },
  "nbformat": 4,
  "nbformat_minor": 0
}